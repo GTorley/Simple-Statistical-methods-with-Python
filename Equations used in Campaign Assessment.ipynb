{
 "cells": [
  {
   "cell_type": "markdown",
   "metadata": {},
   "source": [
    "## Determine if the difference between target and control proportions is significant"
   ]
  },
  {
   "cell_type": "markdown",
   "metadata": {},
   "source": [
    "### Formulas\n",
    "<div>\n",
    "<img src=\"formula1.png\" width=\"200\"/>\n",
    "</div>\n",
    "<div>\n",
    "<img src=\"formula2.png\" width=\"200\"/>\n",
    "</div>\n",
    "\n",
    "### Where\n",
    "\t-P\tPooled estimator of proportions\n",
    "\t-pt  \tTarget cell proportion\n",
    "\t-pc\tControl cell proportion\t\n",
    "\t-nt\tTarget cell size\n",
    "\t-nc\tControl cell size\n",
    "\t-Z\tTest metric\n",
    "\t-Zcrit\tCritical value for test metric\n",
    "\n",
    "    Significance Level         Zcrit\n",
    "    99%                          2.58\n",
    "    95%                          1.96\n",
    "    90%                          1.64"
   ]
  },
  {
   "cell_type": "code",
   "execution_count": 9,
   "metadata": {},
   "outputs": [],
   "source": [
    "import math"
   ]
  },
  {
   "cell_type": "markdown",
   "metadata": {},
   "source": [
    "### Example:\n",
    "We targeted 15.000 customers and sent them a message. 727 bought the product\n",
    "The Control size is 970 custpomers. They haven't received the message.37 of them bought the product\n",
    "Had the message real impact?"
   ]
  },
  {
   "cell_type": "code",
   "execution_count": 4,
   "metadata": {},
   "outputs": [
    {
     "name": "stdout",
     "output_type": "stream",
     "text": [
      "Target cell proportion: 4.85% \n",
      "Control cell proportion: 3.81%\n"
     ]
    }
   ],
   "source": [
    "pt = 727/15000\n",
    "pc = 37/970\n",
    "print('Target cell proportion:',\"{:.2%}\".format(pt),'\\nControl cell proportion:',\"{:.2%}\".format(pc))"
   ]
  },
  {
   "cell_type": "markdown",
   "metadata": {},
   "source": [
    "### Qestion: is this difference significant?"
   ]
  },
  {
   "cell_type": "code",
   "execution_count": 19,
   "metadata": {},
   "outputs": [],
   "source": [
    "def prop_diff_sig(nt,pt,nc,pc):\n",
    "    print('are ',\"{:.2%}\".format(pt),' and ',\"{:.2%}\".format(pc), 'significantly different?' )\n",
    "    P=(nt*pt+nc*pc)/(nt+nc)\n",
    "    Z=abs(pt-pc)/math.sqrt(P*(1-P)*((1/nt)+(1/nc)))\n",
    "    if Z>2.58:\n",
    "        print(\"sig 0.99\")\n",
    "    elif Z>1.96:\n",
    "        print(\"sig 0.95\")\n",
    "    elif Z>1.64:\n",
    "        print(\"sig 0.90\")\n",
    "    else:\n",
    "        print(\"not significant\")\n",
    "    return Z"
   ]
  },
  {
   "cell_type": "code",
   "execution_count": 25,
   "metadata": {},
   "outputs": [
    {
     "name": "stdout",
     "output_type": "stream",
     "text": [
      "are  4.85%  and  3.81% significantly different?\n",
      "not significant\n"
     ]
    },
    {
     "data": {
      "text/plain": [
       "1.4598485617852262"
      ]
     },
     "execution_count": 25,
     "metadata": {},
     "output_type": "execute_result"
    }
   ],
   "source": [
    "nt = 15000\n",
    "nc = 970\n",
    "st = 727 # succesful sales\n",
    "sc = 37 # succesful sales\n",
    "pt = st/nt\n",
    "pc = sc/nc\n",
    "prop_diff_sig(nt,pt,nc,pc)"
   ]
  },
  {
   "cell_type": "markdown",
   "metadata": {},
   "source": [
    "## Determine if the difference between target and control averages is significant"
   ]
  },
  {
   "attachments": {},
   "cell_type": "markdown",
   "metadata": {},
   "source": [
    "### Formulas\n",
    "<div>\n",
    "<img src=\"formula3.png\" width=\"200\"/>\n",
    "</div>\n",
    "<div>\n",
    "<img src=\"formula4.png\" width=\"200\"/>\n",
    "</div>\n",
    "<div>\n",
    "<img src=\"formula5.png\" width=\"200\"/>\n",
    "</div>\n",
    "\n",
    "### Where\n",
    "\n",
    "\t-S\tPooled estimator of standard deviation\n",
    "\t-st Target cell standard deviation\n",
    "\t-sc\tControl cell standard deviation\t\n",
    "\t-nt\tTarget cell size\n",
    "\t-nc\tControl cell size\n",
    "\t-Zcrit\tCritical value for test metric\n",
    "\t-Xt Target cell average\n",
    "\t-Xc\tControl cell average\n",
    "\t-t\tTest metric\n",
    "\n",
    "    If nt + nc > 28 the Zcrit value can be used to determine if t is significant\n",
    "\n",
    "    Significance Level         Zcrit\n",
    "    99%                          2.58\n",
    "    95%                          1.96\n",
    "    90%                          1.64"
   ]
  },
  {
   "cell_type": "markdown",
   "metadata": {},
   "source": [
    "### Example:\n",
    "    -Group A spent on average £10 std = £8. The size of the group is 800.\n",
    "    -Group B spent on average $12 std = £7. The size of the group is 400.\n",
    "     Are these average spends different?"
   ]
  },
  {
   "cell_type": "code",
   "execution_count": 29,
   "metadata": {},
   "outputs": [],
   "source": [
    "def mean_diff_sig(nt,Xt,st, nc, Xc, sc):\n",
    "    print('are ',Xt,' and ',Xc, 'significantly different?' )\n",
    "    S = math.sqrt(((nt-1)*(st**2)+(nc-1)*(sc**2))/(nt+nc-2))\n",
    "    t=abs(Xt-Xc)/(S*math.sqrt((1/nt)+(1/nc)))\n",
    "    if nt+nc<28:\n",
    "        print('Not enough sample')\n",
    "    if t>2.58:\n",
    "        print(\"sig 0.99\")\n",
    "    elif t>1.96:\n",
    "        print(\"sig 0.95\")\n",
    "    elif t>1.64:\n",
    "        print(\"sig 0.90\")\n",
    "    else:\n",
    "        print(\"not significant\")\n",
    "    return t"
   ]
  },
  {
   "cell_type": "code",
   "execution_count": 30,
   "metadata": {},
   "outputs": [
    {
     "name": "stdout",
     "output_type": "stream",
     "text": [
      "are  10  and  12 significantly different?\n",
      "sig 0.99\n"
     ]
    },
    {
     "data": {
      "text/plain": [
       "3.006371095133696"
      ]
     },
     "execution_count": 30,
     "metadata": {},
     "output_type": "execute_result"
    }
   ],
   "source": [
    "nt = 400\n",
    "nc = 200\n",
    "st = 8 # standard deviation\n",
    "sc = 7 # standard deviation\n",
    "Xt = 10\n",
    "Xc = 12\n",
    "\n",
    "mean_diff_sig(nt,Xt,st, nc, Xc, sc)"
   ]
  },
  {
   "cell_type": "code",
   "execution_count": null,
   "metadata": {},
   "outputs": [],
   "source": []
  }
 ],
 "metadata": {
  "kernelspec": {
   "display_name": "Python 3",
   "language": "python",
   "name": "python3"
  },
  "language_info": {
   "codemirror_mode": {
    "name": "ipython",
    "version": 3
   },
   "file_extension": ".py",
   "mimetype": "text/x-python",
   "name": "python",
   "nbconvert_exporter": "python",
   "pygments_lexer": "ipython3",
   "version": "3.6.10"
  }
 },
 "nbformat": 4,
 "nbformat_minor": 4
}
