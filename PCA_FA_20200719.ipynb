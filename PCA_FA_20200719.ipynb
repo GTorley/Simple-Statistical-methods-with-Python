{
 "cells": [
  {
   "cell_type": "markdown",
   "metadata": {},
   "source": [
    "### for reading spss files with pandas, we need the pyreadstat installed at first"
   ]
  },
  {
   "cell_type": "code",
   "execution_count": 1,
   "metadata": {},
   "outputs": [],
   "source": [
    "# ! pip install pyreadstat"
   ]
  },
  {
   "cell_type": "markdown",
   "metadata": {},
   "source": [
    "### import packages"
   ]
  },
  {
   "cell_type": "code",
   "execution_count": 2,
   "metadata": {},
   "outputs": [],
   "source": [
    "import matplotlib.pyplot as plt\n",
    "import pandas as pd\n",
    "import numpy as np\n",
    "import seaborn as sns\n",
    "sns.set()\n",
    "from sklearn import preprocessing\n",
    "from sklearn.decomposition import PCA"
   ]
  },
  {
   "cell_type": "markdown",
   "metadata": {},
   "source": [
    "## Data Preparation\n",
    "### path of the spss files\n",
    "This is a survey about different aspects of freedom, which at the time of the survey was really relevant in Hungary. It covers a broad spectre from religion to freedom of press"
   ]
  },
  {
   "cell_type": "code",
   "execution_count": 3,
   "metadata": {},
   "outputs": [],
   "source": [
    "# the reulsts are store in an SPSS file\n",
    "path_pc = 'c:\\\\datasets\\\\SPSS\\\\tbd.konyv_szabvagy.sav'\n",
    "# scale: 1: Not important at all, 7: Very Important"
   ]
  },
  {
   "cell_type": "code",
   "execution_count": 4,
   "metadata": {},
   "outputs": [],
   "source": [
    "szabvagy = pd.read_spss(path_pc)"
   ]
  },
  {
   "cell_type": "code",
   "execution_count": 5,
   "metadata": {},
   "outputs": [
    {
     "data": {
      "text/html": [
       "<div>\n",
       "<style scoped>\n",
       "    .dataframe tbody tr th:only-of-type {\n",
       "        vertical-align: middle;\n",
       "    }\n",
       "\n",
       "    .dataframe tbody tr th {\n",
       "        vertical-align: top;\n",
       "    }\n",
       "\n",
       "    .dataframe thead th {\n",
       "        text-align: right;\n",
       "    }\n",
       "</style>\n",
       "<table border=\"1\" class=\"dataframe\">\n",
       "  <thead>\n",
       "    <tr style=\"text-align: right;\">\n",
       "      <th></th>\n",
       "      <th>NEME</th>\n",
       "      <th>SZULEV</th>\n",
       "      <th>ISK</th>\n",
       "      <th>VALLAS</th>\n",
       "      <th>VELEMENY</th>\n",
       "      <th>ORVOSVAL</th>\n",
       "      <th>SAJTO</th>\n",
       "      <th>PARTALAK</th>\n",
       "      <th>SZERVALA</th>\n",
       "      <th>TULAJDON</th>\n",
       "      <th>UTAZAS</th>\n",
       "      <th>ELETFORM</th>\n",
       "      <th>VALLALK</th>\n",
       "      <th>POLITIKA</th>\n",
       "    </tr>\n",
       "  </thead>\n",
       "  <tbody>\n",
       "    <tr>\n",
       "      <th>0</th>\n",
       "      <td>nõ</td>\n",
       "      <td>16.0</td>\n",
       "      <td>szakközépiskola, gimnázium</td>\n",
       "      <td>nagyon fontos</td>\n",
       "      <td>4</td>\n",
       "      <td>4</td>\n",
       "      <td>2</td>\n",
       "      <td>nagyon fontos</td>\n",
       "      <td>nagyon fontos</td>\n",
       "      <td>2</td>\n",
       "      <td>nagyon fontos</td>\n",
       "      <td>nagyon fontos</td>\n",
       "      <td>nagyon fontos</td>\n",
       "      <td>nagyon fontos</td>\n",
       "    </tr>\n",
       "    <tr>\n",
       "      <th>1</th>\n",
       "      <td>nõ</td>\n",
       "      <td>49.0</td>\n",
       "      <td>fõiskola, egyetem</td>\n",
       "      <td>nagyon fontos</td>\n",
       "      <td>nagyon fontos</td>\n",
       "      <td>6</td>\n",
       "      <td>nagyon fontos</td>\n",
       "      <td>6</td>\n",
       "      <td>nagyon fontos</td>\n",
       "      <td>nagyon fontos</td>\n",
       "      <td>nagyon fontos</td>\n",
       "      <td>nagyon fontos</td>\n",
       "      <td>nagyon fontos</td>\n",
       "      <td>nagyon fontos</td>\n",
       "    </tr>\n",
       "    <tr>\n",
       "      <th>2</th>\n",
       "      <td>férfi</td>\n",
       "      <td>26.0</td>\n",
       "      <td>8 általános</td>\n",
       "      <td>3</td>\n",
       "      <td>nagyon fontos</td>\n",
       "      <td>nagyon fontos</td>\n",
       "      <td>nagyon fontos</td>\n",
       "      <td>5</td>\n",
       "      <td>6</td>\n",
       "      <td>nagyon fontos</td>\n",
       "      <td>nagyon fontos</td>\n",
       "      <td>nagyon fontos</td>\n",
       "      <td>nagyon fontos</td>\n",
       "      <td>nagyon fontos</td>\n",
       "    </tr>\n",
       "    <tr>\n",
       "      <th>3</th>\n",
       "      <td>férfi</td>\n",
       "      <td>48.0</td>\n",
       "      <td>fõiskola, egyetem</td>\n",
       "      <td>nagyon fontos</td>\n",
       "      <td>nagyon fontos</td>\n",
       "      <td>5</td>\n",
       "      <td>nagyon fontos</td>\n",
       "      <td>nagyon fontos</td>\n",
       "      <td>nagyon fontos</td>\n",
       "      <td>nagyon fontos</td>\n",
       "      <td>nagyon fontos</td>\n",
       "      <td>5</td>\n",
       "      <td>nagyon fontos</td>\n",
       "      <td>nagyon fontos</td>\n",
       "    </tr>\n",
       "    <tr>\n",
       "      <th>4</th>\n",
       "      <td>nõ</td>\n",
       "      <td>10.0</td>\n",
       "      <td>8 általános</td>\n",
       "      <td>nagyon fontos</td>\n",
       "      <td>4</td>\n",
       "      <td>nagyon fontos</td>\n",
       "      <td>nem fontos</td>\n",
       "      <td>nem fontos</td>\n",
       "      <td>nem fontos</td>\n",
       "      <td>nem fontos</td>\n",
       "      <td>nem fontos</td>\n",
       "      <td>4</td>\n",
       "      <td>nem fontos</td>\n",
       "      <td>nem fontos</td>\n",
       "    </tr>\n",
       "  </tbody>\n",
       "</table>\n",
       "</div>"
      ],
      "text/plain": [
       "    NEME  SZULEV                         ISK         VALLAS       VELEMENY  \\\n",
       "0     nõ    16.0  szakközépiskola, gimnázium  nagyon fontos              4   \n",
       "1     nõ    49.0           fõiskola, egyetem  nagyon fontos  nagyon fontos   \n",
       "2  férfi    26.0                 8 általános              3  nagyon fontos   \n",
       "3  férfi    48.0           fõiskola, egyetem  nagyon fontos  nagyon fontos   \n",
       "4     nõ    10.0                 8 általános  nagyon fontos              4   \n",
       "\n",
       "        ORVOSVAL          SAJTO       PARTALAK       SZERVALA       TULAJDON  \\\n",
       "0              4              2  nagyon fontos  nagyon fontos              2   \n",
       "1              6  nagyon fontos              6  nagyon fontos  nagyon fontos   \n",
       "2  nagyon fontos  nagyon fontos              5              6  nagyon fontos   \n",
       "3              5  nagyon fontos  nagyon fontos  nagyon fontos  nagyon fontos   \n",
       "4  nagyon fontos     nem fontos     nem fontos     nem fontos     nem fontos   \n",
       "\n",
       "          UTAZAS       ELETFORM        VALLALK       POLITIKA  \n",
       "0  nagyon fontos  nagyon fontos  nagyon fontos  nagyon fontos  \n",
       "1  nagyon fontos  nagyon fontos  nagyon fontos  nagyon fontos  \n",
       "2  nagyon fontos  nagyon fontos  nagyon fontos  nagyon fontos  \n",
       "3  nagyon fontos              5  nagyon fontos  nagyon fontos  \n",
       "4     nem fontos              4     nem fontos     nem fontos  "
      ]
     },
     "execution_count": 5,
     "metadata": {},
     "output_type": "execute_result"
    }
   ],
   "source": [
    "szabvagy.head()"
   ]
  },
  {
   "cell_type": "code",
   "execution_count": 6,
   "metadata": {},
   "outputs": [
    {
     "data": {
      "text/plain": [
       "Index(['NEME', 'SZULEV', 'ISK', 'VALLAS', 'VELEMENY', 'ORVOSVAL', 'SAJTO',\n",
       "       'PARTALAK', 'SZERVALA', 'TULAJDON', 'UTAZAS', 'ELETFORM', 'VALLALK',\n",
       "       'POLITIKA'],\n",
       "      dtype='object')"
      ]
     },
     "execution_count": 6,
     "metadata": {},
     "output_type": "execute_result"
    }
   ],
   "source": [
    "szabvagy.columns"
   ]
  },
  {
   "cell_type": "code",
   "execution_count": 7,
   "metadata": {},
   "outputs": [
    {
     "name": "stdout",
     "output_type": "stream",
     "text": [
      "[nõ, férfi]\n",
      "Categories (2, object): [nõ, férfi] \n",
      " [16. 49. 26. 48. 10. 53. 34. 20. 21. 56. 33. 46. 44. 45. 25. 52. 42. 31.\n",
      " 43. 22. 54. 39. 60. 62. 50. 24. 14. 47. 37. 61. 69. 59. 28. 68. 63. 66.\n",
      " 41. 70. 38. 11. 36. 32. 23. 30. 65. 67. 19. 15. 64. 71. 57.  9. 35. 51.\n",
      " 27. 29. 40. 55.  5. 75. 74. 58.  6. 18. 13. 72. 17.  1.  7. 12. 73.] \n",
      " [szakközépiskola, gimnázium, fõiskola, egyetem, 8 általános, szakmunkásképzõ, kevesebb mint 8 általános, nem járt]\n",
      "Categories (6, object): [szakközépiskola, gimnázium, fõiskola, egyetem, 8 általános, szakmunkásképzõ, kevesebb mint 8 általános, nem járt] \n",
      " [nagyon fontos, 3, 5, 6, 4, nem fontos, NaN, 2]\n",
      "Categories (7, object): [nagyon fontos, 3, 5, 6, 4, nem fontos, 2] \n",
      " [4, nagyon fontos, 6, 5, 3, nem fontos, 2, NaN]\n",
      "Categories (7, object): [4, nagyon fontos, 6, 5, 3, nem fontos, 2] \n",
      " [4, 6, nagyon fontos, 5, 2, nem fontos, NaN, 3]\n",
      "Categories (7, object): [4, 6, nagyon fontos, 5, 2, nem fontos, 3] \n",
      " [2, nagyon fontos, nem fontos, 4, 5, 6, NaN, 3]\n",
      "Categories (7, object): [2, nagyon fontos, nem fontos, 4, 5, 6, 3] \n",
      " [nagyon fontos, 6, 5, nem fontos, 4, 3, 2, NaN]\n",
      "Categories (7, object): [nagyon fontos, 6, 5, nem fontos, 4, 3, 2] \n",
      " [nagyon fontos, 6, nem fontos, 3, 4, 5, NaN, 2]\n",
      "Categories (7, object): [nagyon fontos, 6, nem fontos, 3, 4, 5, 2] \n",
      " [2, nagyon fontos, nem fontos, 4, 6, 5, 3, NaN]\n",
      "Categories (7, object): [2, nagyon fontos, nem fontos, 4, 6, 5, 3] \n",
      " [nagyon fontos, nem fontos, 4, 5, 6, NaN, 3, 2]\n",
      "Categories (7, object): [nagyon fontos, nem fontos, 4, 5, 6, 3, 2] \n",
      " [nagyon fontos, 5, 4, NaN, 6, nem fontos, 3, 2]\n",
      "Categories (7, object): [nagyon fontos, 5, 4, 6, nem fontos, 3, 2] \n",
      " [nagyon fontos, nem fontos, NaN, 6, 2, 3, 5, 4]\n",
      "Categories (7, object): [nagyon fontos, nem fontos, 6, 2, 3, 5, 4] \n",
      " [nagyon fontos, nem fontos, 4, NaN, 2, 3, 5, 6]\n",
      "Categories (7, object): [nagyon fontos, nem fontos, 4, 2, 3, 5, 6]\n"
     ]
    }
   ],
   "source": [
    "print(szabvagy.NEME.unique(),\n",
    "      \"\\n\",szabvagy.SZULEV.unique(),\n",
    "      \"\\n\",szabvagy.ISK.unique(),\n",
    "      \"\\n\",szabvagy.VALLAS.unique(),\n",
    "      \"\\n\",szabvagy.VELEMENY.unique(),\n",
    "      \"\\n\",szabvagy.ORVOSVAL.unique(),\n",
    "      \"\\n\",szabvagy.SAJTO.unique(),\n",
    "      \"\\n\",szabvagy.PARTALAK.unique(),\n",
    "      \"\\n\",szabvagy.SZERVALA.unique(),\n",
    "      \"\\n\",szabvagy.TULAJDON.unique(),\n",
    "      \"\\n\",szabvagy.UTAZAS.unique(),\n",
    "      \"\\n\",szabvagy.ELETFORM.unique(),\n",
    "      \"\\n\",szabvagy.VALLALK.unique(),\n",
    "      \"\\n\",szabvagy.POLITIKA.unique()\n",
    "      )"
   ]
  },
  {
   "cell_type": "markdown",
   "metadata": {},
   "source": [
    "### replace the character answers with numerical values"
   ]
  },
  {
   "cell_type": "code",
   "execution_count": 8,
   "metadata": {},
   "outputs": [],
   "source": [
    "var_pc = ['VALLAS', 'VELEMENY', 'ORVOSVAL', 'SAJTO','PARTALAK',\n",
    "          'SZERVALA', 'TULAJDON', 'UTAZAS', 'ELETFORM', 'VALLALK','POLITIKA']\n",
    "# replace the 'nagyon fontos' with 7 and 'nem fontos' with 1\n",
    "szabvagy[var_pc] = szabvagy[var_pc].replace(['nagyon fontos','nem fontos'], [7,1])"
   ]
  },
  {
   "cell_type": "code",
   "execution_count": 9,
   "metadata": {},
   "outputs": [
    {
     "data": {
      "text/html": [
       "<div>\n",
       "<style scoped>\n",
       "    .dataframe tbody tr th:only-of-type {\n",
       "        vertical-align: middle;\n",
       "    }\n",
       "\n",
       "    .dataframe tbody tr th {\n",
       "        vertical-align: top;\n",
       "    }\n",
       "\n",
       "    .dataframe thead th {\n",
       "        text-align: right;\n",
       "    }\n",
       "</style>\n",
       "<table border=\"1\" class=\"dataframe\">\n",
       "  <thead>\n",
       "    <tr style=\"text-align: right;\">\n",
       "      <th></th>\n",
       "      <th>NEME</th>\n",
       "      <th>SZULEV</th>\n",
       "      <th>ISK</th>\n",
       "      <th>VALLAS</th>\n",
       "      <th>VELEMENY</th>\n",
       "      <th>ORVOSVAL</th>\n",
       "      <th>SAJTO</th>\n",
       "      <th>PARTALAK</th>\n",
       "      <th>SZERVALA</th>\n",
       "      <th>TULAJDON</th>\n",
       "      <th>UTAZAS</th>\n",
       "      <th>ELETFORM</th>\n",
       "      <th>VALLALK</th>\n",
       "      <th>POLITIKA</th>\n",
       "    </tr>\n",
       "  </thead>\n",
       "  <tbody>\n",
       "    <tr>\n",
       "      <th>0</th>\n",
       "      <td>nõ</td>\n",
       "      <td>16.0</td>\n",
       "      <td>szakközépiskola, gimnázium</td>\n",
       "      <td>7.0</td>\n",
       "      <td>4.0</td>\n",
       "      <td>4.0</td>\n",
       "      <td>2.0</td>\n",
       "      <td>7.0</td>\n",
       "      <td>7.0</td>\n",
       "      <td>2.0</td>\n",
       "      <td>7.0</td>\n",
       "      <td>7.0</td>\n",
       "      <td>7.0</td>\n",
       "      <td>7.0</td>\n",
       "    </tr>\n",
       "    <tr>\n",
       "      <th>1</th>\n",
       "      <td>nõ</td>\n",
       "      <td>49.0</td>\n",
       "      <td>fõiskola, egyetem</td>\n",
       "      <td>7.0</td>\n",
       "      <td>7.0</td>\n",
       "      <td>6.0</td>\n",
       "      <td>7.0</td>\n",
       "      <td>6.0</td>\n",
       "      <td>7.0</td>\n",
       "      <td>7.0</td>\n",
       "      <td>7.0</td>\n",
       "      <td>7.0</td>\n",
       "      <td>7.0</td>\n",
       "      <td>7.0</td>\n",
       "    </tr>\n",
       "    <tr>\n",
       "      <th>2</th>\n",
       "      <td>férfi</td>\n",
       "      <td>26.0</td>\n",
       "      <td>8 általános</td>\n",
       "      <td>3.0</td>\n",
       "      <td>7.0</td>\n",
       "      <td>7.0</td>\n",
       "      <td>7.0</td>\n",
       "      <td>5.0</td>\n",
       "      <td>6.0</td>\n",
       "      <td>7.0</td>\n",
       "      <td>7.0</td>\n",
       "      <td>7.0</td>\n",
       "      <td>7.0</td>\n",
       "      <td>7.0</td>\n",
       "    </tr>\n",
       "    <tr>\n",
       "      <th>3</th>\n",
       "      <td>férfi</td>\n",
       "      <td>48.0</td>\n",
       "      <td>fõiskola, egyetem</td>\n",
       "      <td>7.0</td>\n",
       "      <td>7.0</td>\n",
       "      <td>5.0</td>\n",
       "      <td>7.0</td>\n",
       "      <td>7.0</td>\n",
       "      <td>7.0</td>\n",
       "      <td>7.0</td>\n",
       "      <td>7.0</td>\n",
       "      <td>5.0</td>\n",
       "      <td>7.0</td>\n",
       "      <td>7.0</td>\n",
       "    </tr>\n",
       "    <tr>\n",
       "      <th>4</th>\n",
       "      <td>nõ</td>\n",
       "      <td>10.0</td>\n",
       "      <td>8 általános</td>\n",
       "      <td>7.0</td>\n",
       "      <td>4.0</td>\n",
       "      <td>7.0</td>\n",
       "      <td>1.0</td>\n",
       "      <td>1.0</td>\n",
       "      <td>1.0</td>\n",
       "      <td>1.0</td>\n",
       "      <td>1.0</td>\n",
       "      <td>4.0</td>\n",
       "      <td>1.0</td>\n",
       "      <td>1.0</td>\n",
       "    </tr>\n",
       "    <tr>\n",
       "      <th>...</th>\n",
       "      <td>...</td>\n",
       "      <td>...</td>\n",
       "      <td>...</td>\n",
       "      <td>...</td>\n",
       "      <td>...</td>\n",
       "      <td>...</td>\n",
       "      <td>...</td>\n",
       "      <td>...</td>\n",
       "      <td>...</td>\n",
       "      <td>...</td>\n",
       "      <td>...</td>\n",
       "      <td>...</td>\n",
       "      <td>...</td>\n",
       "      <td>...</td>\n",
       "    </tr>\n",
       "    <tr>\n",
       "      <th>995</th>\n",
       "      <td>férfi</td>\n",
       "      <td>50.0</td>\n",
       "      <td>fõiskola, egyetem</td>\n",
       "      <td>4.0</td>\n",
       "      <td>6.0</td>\n",
       "      <td>6.0</td>\n",
       "      <td>6.0</td>\n",
       "      <td>5.0</td>\n",
       "      <td>5.0</td>\n",
       "      <td>5.0</td>\n",
       "      <td>6.0</td>\n",
       "      <td>5.0</td>\n",
       "      <td>7.0</td>\n",
       "      <td>6.0</td>\n",
       "    </tr>\n",
       "    <tr>\n",
       "      <th>996</th>\n",
       "      <td>férfi</td>\n",
       "      <td>49.0</td>\n",
       "      <td>szakközépiskola, gimnázium</td>\n",
       "      <td>4.0</td>\n",
       "      <td>5.0</td>\n",
       "      <td>5.0</td>\n",
       "      <td>6.0</td>\n",
       "      <td>4.0</td>\n",
       "      <td>4.0</td>\n",
       "      <td>7.0</td>\n",
       "      <td>7.0</td>\n",
       "      <td>5.0</td>\n",
       "      <td>7.0</td>\n",
       "      <td>7.0</td>\n",
       "    </tr>\n",
       "    <tr>\n",
       "      <th>997</th>\n",
       "      <td>férfi</td>\n",
       "      <td>23.0</td>\n",
       "      <td>8 általános</td>\n",
       "      <td>1.0</td>\n",
       "      <td>4.0</td>\n",
       "      <td>4.0</td>\n",
       "      <td>4.0</td>\n",
       "      <td>4.0</td>\n",
       "      <td>4.0</td>\n",
       "      <td>4.0</td>\n",
       "      <td>4.0</td>\n",
       "      <td>4.0</td>\n",
       "      <td>4.0</td>\n",
       "      <td>4.0</td>\n",
       "    </tr>\n",
       "    <tr>\n",
       "      <th>998</th>\n",
       "      <td>nõ</td>\n",
       "      <td>48.0</td>\n",
       "      <td>8 általános</td>\n",
       "      <td>2.0</td>\n",
       "      <td>3.0</td>\n",
       "      <td>2.0</td>\n",
       "      <td>2.0</td>\n",
       "      <td>2.0</td>\n",
       "      <td>2.0</td>\n",
       "      <td>2.0</td>\n",
       "      <td>2.0</td>\n",
       "      <td>2.0</td>\n",
       "      <td>1.0</td>\n",
       "      <td>1.0</td>\n",
       "    </tr>\n",
       "    <tr>\n",
       "      <th>999</th>\n",
       "      <td>nõ</td>\n",
       "      <td>45.0</td>\n",
       "      <td>szakmunkásképzõ</td>\n",
       "      <td>5.0</td>\n",
       "      <td>5.0</td>\n",
       "      <td>6.0</td>\n",
       "      <td>4.0</td>\n",
       "      <td>4.0</td>\n",
       "      <td>4.0</td>\n",
       "      <td>5.0</td>\n",
       "      <td>5.0</td>\n",
       "      <td>5.0</td>\n",
       "      <td>5.0</td>\n",
       "      <td>4.0</td>\n",
       "    </tr>\n",
       "  </tbody>\n",
       "</table>\n",
       "<p>1000 rows × 14 columns</p>\n",
       "</div>"
      ],
      "text/plain": [
       "      NEME  SZULEV                         ISK  VALLAS  VELEMENY  ORVOSVAL  \\\n",
       "0       nõ    16.0  szakközépiskola, gimnázium     7.0       4.0       4.0   \n",
       "1       nõ    49.0           fõiskola, egyetem     7.0       7.0       6.0   \n",
       "2    férfi    26.0                 8 általános     3.0       7.0       7.0   \n",
       "3    férfi    48.0           fõiskola, egyetem     7.0       7.0       5.0   \n",
       "4       nõ    10.0                 8 általános     7.0       4.0       7.0   \n",
       "..     ...     ...                         ...     ...       ...       ...   \n",
       "995  férfi    50.0           fõiskola, egyetem     4.0       6.0       6.0   \n",
       "996  férfi    49.0  szakközépiskola, gimnázium     4.0       5.0       5.0   \n",
       "997  férfi    23.0                 8 általános     1.0       4.0       4.0   \n",
       "998     nõ    48.0                 8 általános     2.0       3.0       2.0   \n",
       "999     nõ    45.0             szakmunkásképzõ     5.0       5.0       6.0   \n",
       "\n",
       "     SAJTO  PARTALAK  SZERVALA  TULAJDON  UTAZAS  ELETFORM  VALLALK  POLITIKA  \n",
       "0      2.0       7.0       7.0       2.0     7.0       7.0      7.0       7.0  \n",
       "1      7.0       6.0       7.0       7.0     7.0       7.0      7.0       7.0  \n",
       "2      7.0       5.0       6.0       7.0     7.0       7.0      7.0       7.0  \n",
       "3      7.0       7.0       7.0       7.0     7.0       5.0      7.0       7.0  \n",
       "4      1.0       1.0       1.0       1.0     1.0       4.0      1.0       1.0  \n",
       "..     ...       ...       ...       ...     ...       ...      ...       ...  \n",
       "995    6.0       5.0       5.0       5.0     6.0       5.0      7.0       6.0  \n",
       "996    6.0       4.0       4.0       7.0     7.0       5.0      7.0       7.0  \n",
       "997    4.0       4.0       4.0       4.0     4.0       4.0      4.0       4.0  \n",
       "998    2.0       2.0       2.0       2.0     2.0       2.0      1.0       1.0  \n",
       "999    4.0       4.0       4.0       5.0     5.0       5.0      5.0       4.0  \n",
       "\n",
       "[1000 rows x 14 columns]"
      ]
     },
     "execution_count": 9,
     "metadata": {},
     "output_type": "execute_result"
    }
   ],
   "source": [
    "szabvagy"
   ]
  },
  {
   "cell_type": "markdown",
   "metadata": {},
   "source": [
    "### drop missing values"
   ]
  },
  {
   "cell_type": "code",
   "execution_count": 10,
   "metadata": {},
   "outputs": [
    {
     "data": {
      "text/plain": [
       "(882, 14)"
      ]
     },
     "execution_count": 10,
     "metadata": {},
     "output_type": "execute_result"
    }
   ],
   "source": [
    "szabvagy = szabvagy.dropna()\n",
    "szabvagy.shape"
   ]
  },
  {
   "cell_type": "code",
   "execution_count": 11,
   "metadata": {},
   "outputs": [
    {
     "name": "stderr",
     "output_type": "stream",
     "text": [
      "C:\\Users\\Gergo\\Anaconda3\\lib\\site-packages\\ipykernel_launcher.py:6: SettingWithCopyWarning: \n",
      "A value is trying to be set on a copy of a slice from a DataFrame.\n",
      "Try using .loc[row_indexer,col_indexer] = value instead\n",
      "\n",
      "See the caveats in the documentation: https://pandas.pydata.org/pandas-docs/stable/user_guide/indexing.html#returning-a-view-versus-a-copy\n",
      "  \n",
      "C:\\Users\\Gergo\\Anaconda3\\lib\\site-packages\\ipykernel_launcher.py:8: SettingWithCopyWarning: \n",
      "A value is trying to be set on a copy of a slice from a DataFrame.\n",
      "Try using .loc[row_indexer,col_indexer] = value instead\n",
      "\n",
      "See the caveats in the documentation: https://pandas.pydata.org/pandas-docs/stable/user_guide/indexing.html#returning-a-view-versus-a-copy\n",
      "  \n"
     ]
    }
   ],
   "source": [
    "# translate to english\n",
    "new_col = ['SEX', 'DOB', 'SCHOOL', 'RELIGION', 'OPINION', 'DOCTOR', 'PRESS',\n",
    "       'PARTY', 'ORG', 'PROPERTY', 'TRAVEL', 'LIFESTYLE', 'ENTERPR',\n",
    "       'POLITICS']\n",
    "szabvagy.columns = new_col\n",
    "szabvagy['SEX'] = szabvagy['SEX'].replace(['nõ','férfi'], ['woman','man'])\n",
    "szabvagy['SCHOOL'] = szabvagy['SCHOOL'].replace(['szakközépiskola, gimnázium', 'fõiskola, egyetem', '8 általános', 'szakmunkásképzõ', 'kevesebb mint 8 általános', 'nem járt'],\n",
    "                                                ['secondary school', 'higher education', 'elementary school', 'college', 'less than elementary school', 'no school'])"
   ]
  },
  {
   "cell_type": "code",
   "execution_count": 12,
   "metadata": {},
   "outputs": [
    {
     "data": {
      "text/html": [
       "<div>\n",
       "<style scoped>\n",
       "    .dataframe tbody tr th:only-of-type {\n",
       "        vertical-align: middle;\n",
       "    }\n",
       "\n",
       "    .dataframe tbody tr th {\n",
       "        vertical-align: top;\n",
       "    }\n",
       "\n",
       "    .dataframe thead th {\n",
       "        text-align: right;\n",
       "    }\n",
       "</style>\n",
       "<table border=\"1\" class=\"dataframe\">\n",
       "  <thead>\n",
       "    <tr style=\"text-align: right;\">\n",
       "      <th></th>\n",
       "      <th>SEX</th>\n",
       "      <th>DOB</th>\n",
       "      <th>SCHOOL</th>\n",
       "      <th>RELIGION</th>\n",
       "      <th>OPINION</th>\n",
       "      <th>DOCTOR</th>\n",
       "      <th>PRESS</th>\n",
       "      <th>PARTY</th>\n",
       "      <th>ORG</th>\n",
       "      <th>PROPERTY</th>\n",
       "      <th>TRAVEL</th>\n",
       "      <th>LIFESTYLE</th>\n",
       "      <th>ENTERPR</th>\n",
       "      <th>POLITICS</th>\n",
       "    </tr>\n",
       "  </thead>\n",
       "  <tbody>\n",
       "    <tr>\n",
       "      <th>0</th>\n",
       "      <td>woman</td>\n",
       "      <td>16.0</td>\n",
       "      <td>secondary school</td>\n",
       "      <td>7.0</td>\n",
       "      <td>4.0</td>\n",
       "      <td>4.0</td>\n",
       "      <td>2.0</td>\n",
       "      <td>7.0</td>\n",
       "      <td>7.0</td>\n",
       "      <td>2.0</td>\n",
       "      <td>7.0</td>\n",
       "      <td>7.0</td>\n",
       "      <td>7.0</td>\n",
       "      <td>7.0</td>\n",
       "    </tr>\n",
       "    <tr>\n",
       "      <th>1</th>\n",
       "      <td>woman</td>\n",
       "      <td>49.0</td>\n",
       "      <td>higher education</td>\n",
       "      <td>7.0</td>\n",
       "      <td>7.0</td>\n",
       "      <td>6.0</td>\n",
       "      <td>7.0</td>\n",
       "      <td>6.0</td>\n",
       "      <td>7.0</td>\n",
       "      <td>7.0</td>\n",
       "      <td>7.0</td>\n",
       "      <td>7.0</td>\n",
       "      <td>7.0</td>\n",
       "      <td>7.0</td>\n",
       "    </tr>\n",
       "    <tr>\n",
       "      <th>2</th>\n",
       "      <td>man</td>\n",
       "      <td>26.0</td>\n",
       "      <td>elementary school</td>\n",
       "      <td>3.0</td>\n",
       "      <td>7.0</td>\n",
       "      <td>7.0</td>\n",
       "      <td>7.0</td>\n",
       "      <td>5.0</td>\n",
       "      <td>6.0</td>\n",
       "      <td>7.0</td>\n",
       "      <td>7.0</td>\n",
       "      <td>7.0</td>\n",
       "      <td>7.0</td>\n",
       "      <td>7.0</td>\n",
       "    </tr>\n",
       "    <tr>\n",
       "      <th>3</th>\n",
       "      <td>man</td>\n",
       "      <td>48.0</td>\n",
       "      <td>higher education</td>\n",
       "      <td>7.0</td>\n",
       "      <td>7.0</td>\n",
       "      <td>5.0</td>\n",
       "      <td>7.0</td>\n",
       "      <td>7.0</td>\n",
       "      <td>7.0</td>\n",
       "      <td>7.0</td>\n",
       "      <td>7.0</td>\n",
       "      <td>5.0</td>\n",
       "      <td>7.0</td>\n",
       "      <td>7.0</td>\n",
       "    </tr>\n",
       "    <tr>\n",
       "      <th>4</th>\n",
       "      <td>woman</td>\n",
       "      <td>10.0</td>\n",
       "      <td>elementary school</td>\n",
       "      <td>7.0</td>\n",
       "      <td>4.0</td>\n",
       "      <td>7.0</td>\n",
       "      <td>1.0</td>\n",
       "      <td>1.0</td>\n",
       "      <td>1.0</td>\n",
       "      <td>1.0</td>\n",
       "      <td>1.0</td>\n",
       "      <td>4.0</td>\n",
       "      <td>1.0</td>\n",
       "      <td>1.0</td>\n",
       "    </tr>\n",
       "  </tbody>\n",
       "</table>\n",
       "</div>"
      ],
      "text/plain": [
       "     SEX   DOB             SCHOOL  RELIGION  OPINION  DOCTOR  PRESS  PARTY  \\\n",
       "0  woman  16.0   secondary school       7.0      4.0     4.0    2.0    7.0   \n",
       "1  woman  49.0   higher education       7.0      7.0     6.0    7.0    6.0   \n",
       "2    man  26.0  elementary school       3.0      7.0     7.0    7.0    5.0   \n",
       "3    man  48.0   higher education       7.0      7.0     5.0    7.0    7.0   \n",
       "4  woman  10.0  elementary school       7.0      4.0     7.0    1.0    1.0   \n",
       "\n",
       "   ORG  PROPERTY  TRAVEL  LIFESTYLE  ENTERPR  POLITICS  \n",
       "0  7.0       2.0     7.0        7.0      7.0       7.0  \n",
       "1  7.0       7.0     7.0        7.0      7.0       7.0  \n",
       "2  6.0       7.0     7.0        7.0      7.0       7.0  \n",
       "3  7.0       7.0     7.0        5.0      7.0       7.0  \n",
       "4  1.0       1.0     1.0        4.0      1.0       1.0  "
      ]
     },
     "execution_count": 12,
     "metadata": {},
     "output_type": "execute_result"
    }
   ],
   "source": [
    "szabvagy.head()"
   ]
  },
  {
   "cell_type": "markdown",
   "metadata": {},
   "source": [
    "## Principal Component Analysis\n",
    "### let's try to create a PC which express the attitude toward freedom"
   ]
  },
  {
   "cell_type": "code",
   "execution_count": 13,
   "metadata": {},
   "outputs": [
    {
     "data": {
      "image/png": "[encoded data removed]",
      "text/plain": [
       "<Figure size 432x288 with 1 Axes>"
      ]
     },
     "metadata": {},
     "output_type": "display_data"
    }
   ],
   "source": [
    "ro = szabvagy.groupby(['RELIGION','OPINION']).size().reset_index()\n",
    "ro.columns = ['RELIGION','OPINION','Asize']\n",
    "ro.head()\n",
    "\n",
    "plt.scatter(ro.RELIGION, ro.OPINION, s = ro.Asize)\n",
    "plt.axis('equal')\n",
    "plt.show()"
   ]
  },
  {
   "cell_type": "markdown",
   "metadata": {},
   "source": [
    "## PCA"
   ]
  },
  {
   "cell_type": "markdown",
   "metadata": {},
   "source": [
    "#### only one principal component\n",
    "#### For PCA it is importandt to standardize our data"
   ]
  },
  {
   "cell_type": "code",
   "execution_count": 14,
   "metadata": {},
   "outputs": [
    {
     "data": {
      "text/html": [
       "<div>\n",
       "<style scoped>\n",
       "    .dataframe tbody tr th:only-of-type {\n",
       "        vertical-align: middle;\n",
       "    }\n",
       "\n",
       "    .dataframe tbody tr th {\n",
       "        vertical-align: top;\n",
       "    }\n",
       "\n",
       "    .dataframe thead th {\n",
       "        text-align: right;\n",
       "    }\n",
       "</style>\n",
       "<table border=\"1\" class=\"dataframe\">\n",
       "  <thead>\n",
       "    <tr style=\"text-align: right;\">\n",
       "      <th></th>\n",
       "      <th>RELIGION</th>\n",
       "      <th>OPINION</th>\n",
       "      <th>DOCTOR</th>\n",
       "      <th>PRESS</th>\n",
       "      <th>PARTY</th>\n",
       "      <th>ORG</th>\n",
       "      <th>PROPERTY</th>\n",
       "      <th>TRAVEL</th>\n",
       "      <th>LIFESTYLE</th>\n",
       "      <th>ENTERPR</th>\n",
       "      <th>POLITICS</th>\n",
       "    </tr>\n",
       "  </thead>\n",
       "  <tbody>\n",
       "    <tr>\n",
       "      <th>0</th>\n",
       "      <td>0.976438</td>\n",
       "      <td>-1.466313</td>\n",
       "      <td>-1.534080</td>\n",
       "      <td>-2.116531</td>\n",
       "      <td>1.331839</td>\n",
       "      <td>1.226199</td>\n",
       "      <td>-2.096159</td>\n",
       "      <td>0.650616</td>\n",
       "      <td>0.689977</td>\n",
       "      <td>0.757275</td>\n",
       "      <td>0.828628</td>\n",
       "    </tr>\n",
       "    <tr>\n",
       "      <th>1</th>\n",
       "      <td>0.976438</td>\n",
       "      <td>0.689167</td>\n",
       "      <td>-0.058553</td>\n",
       "      <td>0.814971</td>\n",
       "      <td>0.889897</td>\n",
       "      <td>1.226199</td>\n",
       "      <td>0.828251</td>\n",
       "      <td>0.650616</td>\n",
       "      <td>0.689977</td>\n",
       "      <td>0.757275</td>\n",
       "      <td>0.828628</td>\n",
       "    </tr>\n",
       "    <tr>\n",
       "      <th>2</th>\n",
       "      <td>-0.915310</td>\n",
       "      <td>0.689167</td>\n",
       "      <td>0.679211</td>\n",
       "      <td>0.814971</td>\n",
       "      <td>0.447955</td>\n",
       "      <td>0.763027</td>\n",
       "      <td>0.828251</td>\n",
       "      <td>0.650616</td>\n",
       "      <td>0.689977</td>\n",
       "      <td>0.757275</td>\n",
       "      <td>0.828628</td>\n",
       "    </tr>\n",
       "    <tr>\n",
       "      <th>3</th>\n",
       "      <td>0.976438</td>\n",
       "      <td>0.689167</td>\n",
       "      <td>-0.796316</td>\n",
       "      <td>0.814971</td>\n",
       "      <td>1.331839</td>\n",
       "      <td>1.226199</td>\n",
       "      <td>0.828251</td>\n",
       "      <td>0.650616</td>\n",
       "      <td>-0.579178</td>\n",
       "      <td>0.757275</td>\n",
       "      <td>0.828628</td>\n",
       "    </tr>\n",
       "    <tr>\n",
       "      <th>4</th>\n",
       "      <td>0.976438</td>\n",
       "      <td>-1.466313</td>\n",
       "      <td>0.679211</td>\n",
       "      <td>-2.702831</td>\n",
       "      <td>-1.319813</td>\n",
       "      <td>-1.552835</td>\n",
       "      <td>-2.681041</td>\n",
       "      <td>-2.928450</td>\n",
       "      <td>-1.213755</td>\n",
       "      <td>-2.337319</td>\n",
       "      <td>-2.168706</td>\n",
       "    </tr>\n",
       "  </tbody>\n",
       "</table>\n",
       "</div>"
      ],
      "text/plain": [
       "   RELIGION   OPINION    DOCTOR     PRESS     PARTY       ORG  PROPERTY  \\\n",
       "0  0.976438 -1.466313 -1.534080 -2.116531  1.331839  1.226199 -2.096159   \n",
       "1  0.976438  0.689167 -0.058553  0.814971  0.889897  1.226199  0.828251   \n",
       "2 -0.915310  0.689167  0.679211  0.814971  0.447955  0.763027  0.828251   \n",
       "3  0.976438  0.689167 -0.796316  0.814971  1.331839  1.226199  0.828251   \n",
       "4  0.976438 -1.466313  0.679211 -2.702831 -1.319813 -1.552835 -2.681041   \n",
       "\n",
       "     TRAVEL  LIFESTYLE   ENTERPR  POLITICS  \n",
       "0  0.650616   0.689977  0.757275  0.828628  \n",
       "1  0.650616   0.689977  0.757275  0.828628  \n",
       "2  0.650616   0.689977  0.757275  0.828628  \n",
       "3  0.650616  -0.579178  0.757275  0.828628  \n",
       "4 -2.928450  -1.213755 -2.337319 -2.168706  "
      ]
     },
     "execution_count": 14,
     "metadata": {},
     "output_type": "execute_result"
    }
   ],
   "source": [
    "# keep only the survey answers\n",
    "\n",
    "szabvagyPCA = szabvagy.iloc[:,3:]\n",
    "\n",
    "# Get column names first\n",
    "names = szabvagyPCA.columns\n",
    "\n",
    "# Create the Scaler object\n",
    "scaler = preprocessing.StandardScaler()\n",
    "\n",
    "# Fit the data on the scaler object, and recreate a dataframe\n",
    "scaled_szabvagyPCA = scaler.fit_transform(szabvagyPCA)\n",
    "scaled_szabvagyPCA = pd.DataFrame(scaled_szabvagyPCA, columns=names)\n",
    "\n",
    "scaled_szabvagyPCA.head()"
   ]
  },
  {
   "cell_type": "code",
   "execution_count": 15,
   "metadata": {},
   "outputs": [
    {
     "data": {
      "text/plain": [
       "PCA(copy=True, iterated_power='auto', n_components=1, random_state=None,\n",
       "    svd_solver='auto', tol=0.0, whiten=False)"
      ]
     },
     "execution_count": 15,
     "metadata": {},
     "output_type": "execute_result"
    }
   ],
   "source": [
    "# if we are only interested in 1 PC\n",
    "pca1 = PCA(n_components=1)\n",
    "pca1.fit(scaled_szabvagyPCA)"
   ]
  },
  {
   "cell_type": "code",
   "execution_count": 16,
   "metadata": {},
   "outputs": [
    {
     "name": "stdout",
     "output_type": "stream",
     "text": [
      "{'RELIGION': -0.15988820447565427, 'OPINION': -0.27834582686864584, 'DOCTOR': -0.21921362694299495, 'PRESS': -0.32158016669793676, 'PARTY': -0.29821594133164153, 'ORG': -0.31641868343597146, 'PROPERTY': -0.3219328747778821, 'TRAVEL': -0.3344191047687605, 'LIFESTYLE': -0.3330613705597689, 'ENTERPR': -0.3323872264857608, 'POLITICS': -0.34575910053760917}\n"
     ]
    }
   ],
   "source": [
    "print(dict(zip(szabvagyPCA.columns,pca1.components_[0])))"
   ]
  },
  {
   "cell_type": "markdown",
   "metadata": {},
   "source": [
    "### The components_ are the cofficients of the linear combination of the variables:\n",
    "### with other words: -0.16*RELIGION+(-0.278)*OPINION +...(-0.346)*POLITICS = PC1"
   ]
  },
  {
   "cell_type": "code",
   "execution_count": 17,
   "metadata": {},
   "outputs": [
    {
     "name": "stdout",
     "output_type": "stream",
     "text": [
      "[5.30307301] [0.48155095]\n"
     ]
    }
   ],
   "source": [
    "print(pca1.explained_variance_,pca1.explained_variance_ratio_)"
   ]
  },
  {
   "cell_type": "markdown",
   "metadata": {},
   "source": [
    "As it was standardized, the sum of variance was 11. The first PC explains 5.3 out of it, which is 48%"
   ]
  },
  {
   "cell_type": "code",
   "execution_count": 18,
   "metadata": {},
   "outputs": [
    {
     "name": "stdout",
     "output_type": "stream",
     "text": [
      "(882, 11)\n",
      "(882, 1)\n"
     ]
    }
   ],
   "source": [
    "projected1 = pca1.transform(scaled_szabvagyPCA)\n",
    "print(scaled_szabvagyPCA.shape)\n",
    "print(projected1.shape)"
   ]
  },
  {
   "cell_type": "code",
   "execution_count": 19,
   "metadata": {},
   "outputs": [
    {
     "data": {
      "text/html": [
       "<div>\n",
       "<style scoped>\n",
       "    .dataframe tbody tr th:only-of-type {\n",
       "        vertical-align: middle;\n",
       "    }\n",
       "\n",
       "    .dataframe tbody tr th {\n",
       "        vertical-align: top;\n",
       "    }\n",
       "\n",
       "    .dataframe thead th {\n",
       "        text-align: right;\n",
       "    }\n",
       "</style>\n",
       "<table border=\"1\" class=\"dataframe\">\n",
       "  <thead>\n",
       "    <tr style=\"text-align: right;\">\n",
       "      <th></th>\n",
       "      <th>index</th>\n",
       "      <th>RELIGION</th>\n",
       "      <th>OPINION</th>\n",
       "      <th>DOCTOR</th>\n",
       "      <th>PRESS</th>\n",
       "      <th>PARTY</th>\n",
       "      <th>ORG</th>\n",
       "      <th>PROPERTY</th>\n",
       "      <th>TRAVEL</th>\n",
       "      <th>LIFESTYLE</th>\n",
       "      <th>ENTERPR</th>\n",
       "      <th>POLITICS</th>\n",
       "      <th>principal component 1</th>\n",
       "    </tr>\n",
       "  </thead>\n",
       "  <tbody>\n",
       "    <tr>\n",
       "      <th>0</th>\n",
       "      <td>0</td>\n",
       "      <td>0.976438</td>\n",
       "      <td>-1.466313</td>\n",
       "      <td>-1.534080</td>\n",
       "      <td>-2.116531</td>\n",
       "      <td>1.331839</td>\n",
       "      <td>1.226199</td>\n",
       "      <td>-2.096159</td>\n",
       "      <td>0.650616</td>\n",
       "      <td>0.689977</td>\n",
       "      <td>0.757275</td>\n",
       "      <td>0.828628</td>\n",
       "      <td>0.173004</td>\n",
       "    </tr>\n",
       "    <tr>\n",
       "      <th>1</th>\n",
       "      <td>1</td>\n",
       "      <td>0.976438</td>\n",
       "      <td>0.689167</td>\n",
       "      <td>-0.058553</td>\n",
       "      <td>0.814971</td>\n",
       "      <td>0.889897</td>\n",
       "      <td>1.226199</td>\n",
       "      <td>0.828251</td>\n",
       "      <td>0.650616</td>\n",
       "      <td>0.689977</td>\n",
       "      <td>0.757275</td>\n",
       "      <td>0.828628</td>\n",
       "      <td>-2.502803</td>\n",
       "    </tr>\n",
       "    <tr>\n",
       "      <th>2</th>\n",
       "      <td>2</td>\n",
       "      <td>-0.915310</td>\n",
       "      <td>0.689167</td>\n",
       "      <td>0.679211</td>\n",
       "      <td>0.814971</td>\n",
       "      <td>0.447955</td>\n",
       "      <td>0.763027</td>\n",
       "      <td>0.828251</td>\n",
       "      <td>0.650616</td>\n",
       "      <td>0.689977</td>\n",
       "      <td>0.757275</td>\n",
       "      <td>0.828628</td>\n",
       "      <td>-2.083712</td>\n",
       "    </tr>\n",
       "    <tr>\n",
       "      <th>3</th>\n",
       "      <td>3</td>\n",
       "      <td>0.976438</td>\n",
       "      <td>0.689167</td>\n",
       "      <td>-0.796316</td>\n",
       "      <td>0.814971</td>\n",
       "      <td>1.331839</td>\n",
       "      <td>1.226199</td>\n",
       "      <td>0.828251</td>\n",
       "      <td>0.650616</td>\n",
       "      <td>-0.579178</td>\n",
       "      <td>0.757275</td>\n",
       "      <td>0.828628</td>\n",
       "      <td>-2.050163</td>\n",
       "    </tr>\n",
       "    <tr>\n",
       "      <th>4</th>\n",
       "      <td>4</td>\n",
       "      <td>0.976438</td>\n",
       "      <td>-1.466313</td>\n",
       "      <td>0.679211</td>\n",
       "      <td>-2.702831</td>\n",
       "      <td>-1.319813</td>\n",
       "      <td>-1.552835</td>\n",
       "      <td>-2.681041</td>\n",
       "      <td>-2.928450</td>\n",
       "      <td>-1.213755</td>\n",
       "      <td>-2.337319</td>\n",
       "      <td>-2.168706</td>\n",
       "      <td>5.630686</td>\n",
       "    </tr>\n",
       "  </tbody>\n",
       "</table>\n",
       "</div>"
      ],
      "text/plain": [
       "   index  RELIGION   OPINION    DOCTOR     PRESS     PARTY       ORG  \\\n",
       "0      0  0.976438 -1.466313 -1.534080 -2.116531  1.331839  1.226199   \n",
       "1      1  0.976438  0.689167 -0.058553  0.814971  0.889897  1.226199   \n",
       "2      2 -0.915310  0.689167  0.679211  0.814971  0.447955  0.763027   \n",
       "3      3  0.976438  0.689167 -0.796316  0.814971  1.331839  1.226199   \n",
       "4      4  0.976438 -1.466313  0.679211 -2.702831 -1.319813 -1.552835   \n",
       "\n",
       "   PROPERTY    TRAVEL  LIFESTYLE   ENTERPR  POLITICS  principal component 1  \n",
       "0 -2.096159  0.650616   0.689977  0.757275  0.828628               0.173004  \n",
       "1  0.828251  0.650616   0.689977  0.757275  0.828628              -2.502803  \n",
       "2  0.828251  0.650616   0.689977  0.757275  0.828628              -2.083712  \n",
       "3  0.828251  0.650616  -0.579178  0.757275  0.828628              -2.050163  \n",
       "4 -2.681041 -2.928450  -1.213755 -2.337319 -2.168706               5.630686  "
      ]
     },
     "execution_count": 19,
     "metadata": {},
     "output_type": "execute_result"
    }
   ],
   "source": [
    "pc_df = pd.DataFrame(data = projected1,columns = ['principal component 1'])\n",
    "scaled_szabvagyPCA_idx = scaled_szabvagyPCA.reset_index()\n",
    "principalDf = pd.concat([scaled_szabvagyPCA_idx,\n",
    "                         pc_df],\n",
    "                        axis = 1, sort=False)\n",
    "principalDf.head()"
   ]
  },
  {
   "cell_type": "code",
   "execution_count": 20,
   "metadata": {},
   "outputs": [
    {
     "data": {
      "image/png": "[encoded data removed]",
      "text/plain": [
       "<Figure size 432x288 with 1 Axes>"
      ]
     },
     "metadata": {},
     "output_type": "display_data"
    }
   ],
   "source": [
    "principalDf['principal component 1'].plot(kind='box')\n",
    "plt.show()"
   ]
  },
  {
   "cell_type": "markdown",
   "metadata": {},
   "source": [
    "### let's check with matrix multiplication if it's ok"
   ]
  },
  {
   "cell_type": "code",
   "execution_count": 21,
   "metadata": {},
   "outputs": [],
   "source": [
    "X = np.array(scaled_szabvagyPCA)"
   ]
  },
  {
   "cell_type": "code",
   "execution_count": 22,
   "metadata": {},
   "outputs": [
    {
     "data": {
      "text/plain": [
       "array([[ 0.97643839, -1.46631349, -1.53407985, ...,  0.68997716,\n",
       "         0.75727511,  0.82862817],\n",
       "       [ 0.97643839,  0.68916734, -0.05855267, ...,  0.68997716,\n",
       "         0.75727511,  0.82862817],\n",
       "       [-0.91531045,  0.68916734,  0.67921093, ...,  0.68997716,\n",
       "         0.75727511,  0.82862817],\n",
       "       ...,\n",
       "       [-1.86118487, -1.46631349, -1.53407985, ..., -1.21375545,\n",
       "        -0.79002214, -0.67003905],\n",
       "       [-1.38824766, -2.1848071 , -3.00960703, ..., -2.48291052,\n",
       "        -2.33731939, -2.16870626],\n",
       "       [ 0.03056397, -0.74781988, -0.05855267, ..., -0.57917791,\n",
       "        -0.27425639, -0.67003905]])"
      ]
     },
     "execution_count": 22,
     "metadata": {},
     "output_type": "execute_result"
    }
   ],
   "source": [
    "X"
   ]
  },
  {
   "cell_type": "code",
   "execution_count": 23,
   "metadata": {},
   "outputs": [],
   "source": [
    "pc = np.array(projected1)"
   ]
  },
  {
   "cell_type": "code",
   "execution_count": 24,
   "metadata": {},
   "outputs": [],
   "source": [
    "coef = np.array(pca1.components_[0])"
   ]
  },
  {
   "cell_type": "code",
   "execution_count": 25,
   "metadata": {},
   "outputs": [
    {
     "data": {
      "text/plain": [
       "array([-0.1598882 , -0.27834583, -0.21921363, -0.32158017, -0.29821594,\n",
       "       -0.31641868, -0.32193287, -0.3344191 , -0.33306137, -0.33238723,\n",
       "       -0.3457591 ])"
      ]
     },
     "execution_count": 25,
     "metadata": {},
     "output_type": "execute_result"
    }
   ],
   "source": [
    "coef"
   ]
  },
  {
   "cell_type": "code",
   "execution_count": 26,
   "metadata": {},
   "outputs": [],
   "source": [
    "# calculation\n",
    "pc_calc = X.dot(coef)"
   ]
  },
  {
   "cell_type": "code",
   "execution_count": 27,
   "metadata": {},
   "outputs": [],
   "source": [
    "for i in range(len(pc_calc)):\n",
    "    if pc_calc[1]-pc[1][0]>0.0000001:\n",
    "        print(pc_calc[1],pc[1][0])"
   ]
  },
  {
   "cell_type": "markdown",
   "metadata": {},
   "source": [
    "#### It seems perfect, the calculated PC are the same (rounding)"
   ]
  },
  {
   "cell_type": "markdown",
   "metadata": {},
   "source": [
    "## let's compare answers from the 2 ends"
   ]
  },
  {
   "cell_type": "markdown",
   "metadata": {},
   "source": [
    "### To better see, lets join he PC to the original not standardized answers"
   ]
  },
  {
   "cell_type": "code",
   "execution_count": 28,
   "metadata": {},
   "outputs": [
    {
     "data": {
      "text/html": [
       "<div>\n",
       "<style scoped>\n",
       "    .dataframe tbody tr th:only-of-type {\n",
       "        vertical-align: middle;\n",
       "    }\n",
       "\n",
       "    .dataframe tbody tr th {\n",
       "        vertical-align: top;\n",
       "    }\n",
       "\n",
       "    .dataframe thead th {\n",
       "        text-align: right;\n",
       "    }\n",
       "</style>\n",
       "<table border=\"1\" class=\"dataframe\">\n",
       "  <thead>\n",
       "    <tr style=\"text-align: right;\">\n",
       "      <th></th>\n",
       "      <th>index</th>\n",
       "      <th>RELIGION</th>\n",
       "      <th>OPINION</th>\n",
       "      <th>DOCTOR</th>\n",
       "      <th>PRESS</th>\n",
       "      <th>PARTY</th>\n",
       "      <th>ORG</th>\n",
       "      <th>PROPERTY</th>\n",
       "      <th>TRAVEL</th>\n",
       "      <th>LIFESTYLE</th>\n",
       "      <th>ENTERPR</th>\n",
       "      <th>POLITICS</th>\n",
       "      <th>principal component 1</th>\n",
       "    </tr>\n",
       "  </thead>\n",
       "  <tbody>\n",
       "    <tr>\n",
       "      <th>877</th>\n",
       "      <td>995</td>\n",
       "      <td>4.0</td>\n",
       "      <td>6.0</td>\n",
       "      <td>6.0</td>\n",
       "      <td>6.0</td>\n",
       "      <td>5.0</td>\n",
       "      <td>5.0</td>\n",
       "      <td>5.0</td>\n",
       "      <td>6.0</td>\n",
       "      <td>5.0</td>\n",
       "      <td>7.0</td>\n",
       "      <td>6.0</td>\n",
       "      <td>-0.291010</td>\n",
       "    </tr>\n",
       "    <tr>\n",
       "      <th>878</th>\n",
       "      <td>996</td>\n",
       "      <td>4.0</td>\n",
       "      <td>5.0</td>\n",
       "      <td>5.0</td>\n",
       "      <td>6.0</td>\n",
       "      <td>4.0</td>\n",
       "      <td>4.0</td>\n",
       "      <td>7.0</td>\n",
       "      <td>7.0</td>\n",
       "      <td>5.0</td>\n",
       "      <td>7.0</td>\n",
       "      <td>7.0</td>\n",
       "      <td>-0.399738</td>\n",
       "    </tr>\n",
       "    <tr>\n",
       "      <th>879</th>\n",
       "      <td>997</td>\n",
       "      <td>1.0</td>\n",
       "      <td>4.0</td>\n",
       "      <td>4.0</td>\n",
       "      <td>4.0</td>\n",
       "      <td>4.0</td>\n",
       "      <td>4.0</td>\n",
       "      <td>4.0</td>\n",
       "      <td>4.0</td>\n",
       "      <td>4.0</td>\n",
       "      <td>4.0</td>\n",
       "      <td>4.0</td>\n",
       "      <td>2.973081</td>\n",
       "    </tr>\n",
       "    <tr>\n",
       "      <th>880</th>\n",
       "      <td>998</td>\n",
       "      <td>2.0</td>\n",
       "      <td>3.0</td>\n",
       "      <td>2.0</td>\n",
       "      <td>2.0</td>\n",
       "      <td>2.0</td>\n",
       "      <td>2.0</td>\n",
       "      <td>2.0</td>\n",
       "      <td>2.0</td>\n",
       "      <td>2.0</td>\n",
       "      <td>1.0</td>\n",
       "      <td>1.0</td>\n",
       "      <td>6.585436</td>\n",
       "    </tr>\n",
       "    <tr>\n",
       "      <th>881</th>\n",
       "      <td>999</td>\n",
       "      <td>5.0</td>\n",
       "      <td>5.0</td>\n",
       "      <td>6.0</td>\n",
       "      <td>4.0</td>\n",
       "      <td>4.0</td>\n",
       "      <td>4.0</td>\n",
       "      <td>5.0</td>\n",
       "      <td>5.0</td>\n",
       "      <td>5.0</td>\n",
       "      <td>5.0</td>\n",
       "      <td>4.0</td>\n",
       "      <td>1.376603</td>\n",
       "    </tr>\n",
       "  </tbody>\n",
       "</table>\n",
       "</div>"
      ],
      "text/plain": [
       "     index  RELIGION  OPINION  DOCTOR  PRESS  PARTY  ORG  PROPERTY  TRAVEL  \\\n",
       "877    995       4.0      6.0     6.0    6.0    5.0  5.0       5.0     6.0   \n",
       "878    996       4.0      5.0     5.0    6.0    4.0  4.0       7.0     7.0   \n",
       "879    997       1.0      4.0     4.0    4.0    4.0  4.0       4.0     4.0   \n",
       "880    998       2.0      3.0     2.0    2.0    2.0  2.0       2.0     2.0   \n",
       "881    999       5.0      5.0     6.0    4.0    4.0  4.0       5.0     5.0   \n",
       "\n",
       "     LIFESTYLE  ENTERPR  POLITICS  principal component 1  \n",
       "877        5.0      7.0       6.0              -0.291010  \n",
       "878        5.0      7.0       7.0              -0.399738  \n",
       "879        4.0      4.0       4.0               2.973081  \n",
       "880        2.0      1.0       1.0               6.585436  \n",
       "881        5.0      5.0       4.0               1.376603  "
      ]
     },
     "execution_count": 28,
     "metadata": {},
     "output_type": "execute_result"
    }
   ],
   "source": [
    "pc_df = pd.DataFrame(data = projected1,columns = ['principal component 1'])\n",
    "szabvagyPCA_idx = szabvagyPCA.reset_index()\n",
    "principalDf2 = pd.concat([szabvagyPCA_idx,\n",
    "                         pc_df],\n",
    "                        axis = 1, sort=False)\n",
    "principalDf2.tail()"
   ]
  },
  {
   "cell_type": "markdown",
   "metadata": {},
   "source": [
    "### High values: low freedom"
   ]
  },
  {
   "cell_type": "code",
   "execution_count": 29,
   "metadata": {},
   "outputs": [
    {
     "data": {
      "text/html": [
       "<div>\n",
       "<style scoped>\n",
       "    .dataframe tbody tr th:only-of-type {\n",
       "        vertical-align: middle;\n",
       "    }\n",
       "\n",
       "    .dataframe tbody tr th {\n",
       "        vertical-align: top;\n",
       "    }\n",
       "\n",
       "    .dataframe thead th {\n",
       "        text-align: right;\n",
       "    }\n",
       "</style>\n",
       "<table border=\"1\" class=\"dataframe\">\n",
       "  <thead>\n",
       "    <tr style=\"text-align: right;\">\n",
       "      <th></th>\n",
       "      <th>index</th>\n",
       "      <th>RELIGION</th>\n",
       "      <th>OPINION</th>\n",
       "      <th>DOCTOR</th>\n",
       "      <th>PRESS</th>\n",
       "      <th>PARTY</th>\n",
       "      <th>ORG</th>\n",
       "      <th>PROPERTY</th>\n",
       "      <th>TRAVEL</th>\n",
       "      <th>LIFESTYLE</th>\n",
       "      <th>ENTERPR</th>\n",
       "      <th>POLITICS</th>\n",
       "      <th>principal component 1</th>\n",
       "    </tr>\n",
       "  </thead>\n",
       "  <tbody>\n",
       "    <tr>\n",
       "      <th>505</th>\n",
       "      <td>568</td>\n",
       "      <td>4.0</td>\n",
       "      <td>4.0</td>\n",
       "      <td>4.0</td>\n",
       "      <td>2.0</td>\n",
       "      <td>2.0</td>\n",
       "      <td>1.0</td>\n",
       "      <td>1.0</td>\n",
       "      <td>2.0</td>\n",
       "      <td>3.0</td>\n",
       "      <td>3.0</td>\n",
       "      <td>2.0</td>\n",
       "      <td>5.518659</td>\n",
       "    </tr>\n",
       "    <tr>\n",
       "      <th>323</th>\n",
       "      <td>369</td>\n",
       "      <td>1.0</td>\n",
       "      <td>1.0</td>\n",
       "      <td>4.0</td>\n",
       "      <td>1.0</td>\n",
       "      <td>1.0</td>\n",
       "      <td>1.0</td>\n",
       "      <td>1.0</td>\n",
       "      <td>1.0</td>\n",
       "      <td>1.0</td>\n",
       "      <td>1.0</td>\n",
       "      <td>1.0</td>\n",
       "      <td>7.803601</td>\n",
       "    </tr>\n",
       "    <tr>\n",
       "      <th>667</th>\n",
       "      <td>741</td>\n",
       "      <td>3.0</td>\n",
       "      <td>5.0</td>\n",
       "      <td>4.0</td>\n",
       "      <td>1.0</td>\n",
       "      <td>1.0</td>\n",
       "      <td>1.0</td>\n",
       "      <td>1.0</td>\n",
       "      <td>1.0</td>\n",
       "      <td>1.0</td>\n",
       "      <td>1.0</td>\n",
       "      <td>1.0</td>\n",
       "      <td>6.852408</td>\n",
       "    </tr>\n",
       "    <tr>\n",
       "      <th>4</th>\n",
       "      <td>4</td>\n",
       "      <td>7.0</td>\n",
       "      <td>4.0</td>\n",
       "      <td>7.0</td>\n",
       "      <td>1.0</td>\n",
       "      <td>1.0</td>\n",
       "      <td>1.0</td>\n",
       "      <td>1.0</td>\n",
       "      <td>1.0</td>\n",
       "      <td>4.0</td>\n",
       "      <td>1.0</td>\n",
       "      <td>1.0</td>\n",
       "      <td>5.630686</td>\n",
       "    </tr>\n",
       "    <tr>\n",
       "      <th>748</th>\n",
       "      <td>842</td>\n",
       "      <td>7.0</td>\n",
       "      <td>1.0</td>\n",
       "      <td>1.0</td>\n",
       "      <td>1.0</td>\n",
       "      <td>1.0</td>\n",
       "      <td>1.0</td>\n",
       "      <td>1.0</td>\n",
       "      <td>1.0</td>\n",
       "      <td>1.0</td>\n",
       "      <td>1.0</td>\n",
       "      <td>7.0</td>\n",
       "      <td>6.798726</td>\n",
       "    </tr>\n",
       "  </tbody>\n",
       "</table>\n",
       "</div>"
      ],
      "text/plain": [
       "     index  RELIGION  OPINION  DOCTOR  PRESS  PARTY  ORG  PROPERTY  TRAVEL  \\\n",
       "505    568       4.0      4.0     4.0    2.0    2.0  1.0       1.0     2.0   \n",
       "323    369       1.0      1.0     4.0    1.0    1.0  1.0       1.0     1.0   \n",
       "667    741       3.0      5.0     4.0    1.0    1.0  1.0       1.0     1.0   \n",
       "4        4       7.0      4.0     7.0    1.0    1.0  1.0       1.0     1.0   \n",
       "748    842       7.0      1.0     1.0    1.0    1.0  1.0       1.0     1.0   \n",
       "\n",
       "     LIFESTYLE  ENTERPR  POLITICS  principal component 1  \n",
       "505        3.0      3.0       2.0               5.518659  \n",
       "323        1.0      1.0       1.0               7.803601  \n",
       "667        1.0      1.0       1.0               6.852408  \n",
       "4          4.0      1.0       1.0               5.630686  \n",
       "748        1.0      1.0       7.0               6.798726  "
      ]
     },
     "execution_count": 29,
     "metadata": {},
     "output_type": "execute_result"
    }
   ],
   "source": [
    "principalDf2[principalDf2['principal component 1']>5].sample(5)"
   ]
  },
  {
   "cell_type": "markdown",
   "metadata": {},
   "source": [
    "### Low values: high freedom"
   ]
  },
  {
   "cell_type": "code",
   "execution_count": 30,
   "metadata": {},
   "outputs": [
    {
     "data": {
      "text/html": [
       "<div>\n",
       "<style scoped>\n",
       "    .dataframe tbody tr th:only-of-type {\n",
       "        vertical-align: middle;\n",
       "    }\n",
       "\n",
       "    .dataframe tbody tr th {\n",
       "        vertical-align: top;\n",
       "    }\n",
       "\n",
       "    .dataframe thead th {\n",
       "        text-align: right;\n",
       "    }\n",
       "</style>\n",
       "<table border=\"1\" class=\"dataframe\">\n",
       "  <thead>\n",
       "    <tr style=\"text-align: right;\">\n",
       "      <th></th>\n",
       "      <th>index</th>\n",
       "      <th>RELIGION</th>\n",
       "      <th>OPINION</th>\n",
       "      <th>DOCTOR</th>\n",
       "      <th>PRESS</th>\n",
       "      <th>PARTY</th>\n",
       "      <th>ORG</th>\n",
       "      <th>PROPERTY</th>\n",
       "      <th>TRAVEL</th>\n",
       "      <th>LIFESTYLE</th>\n",
       "      <th>ENTERPR</th>\n",
       "      <th>POLITICS</th>\n",
       "      <th>principal component 1</th>\n",
       "    </tr>\n",
       "  </thead>\n",
       "  <tbody>\n",
       "    <tr>\n",
       "      <th>857</th>\n",
       "      <td>971</td>\n",
       "      <td>7.0</td>\n",
       "      <td>7.0</td>\n",
       "      <td>5.0</td>\n",
       "      <td>6.0</td>\n",
       "      <td>5.0</td>\n",
       "      <td>7.0</td>\n",
       "      <td>7.0</td>\n",
       "      <td>7.0</td>\n",
       "      <td>7.0</td>\n",
       "      <td>7.0</td>\n",
       "      <td>7.0</td>\n",
       "      <td>-2.020739</td>\n",
       "    </tr>\n",
       "    <tr>\n",
       "      <th>7</th>\n",
       "      <td>7</td>\n",
       "      <td>7.0</td>\n",
       "      <td>7.0</td>\n",
       "      <td>7.0</td>\n",
       "      <td>7.0</td>\n",
       "      <td>7.0</td>\n",
       "      <td>7.0</td>\n",
       "      <td>7.0</td>\n",
       "      <td>7.0</td>\n",
       "      <td>7.0</td>\n",
       "      <td>7.0</td>\n",
       "      <td>7.0</td>\n",
       "      <td>-2.796325</td>\n",
       "    </tr>\n",
       "    <tr>\n",
       "      <th>14</th>\n",
       "      <td>14</td>\n",
       "      <td>7.0</td>\n",
       "      <td>7.0</td>\n",
       "      <td>7.0</td>\n",
       "      <td>7.0</td>\n",
       "      <td>7.0</td>\n",
       "      <td>7.0</td>\n",
       "      <td>7.0</td>\n",
       "      <td>7.0</td>\n",
       "      <td>7.0</td>\n",
       "      <td>7.0</td>\n",
       "      <td>7.0</td>\n",
       "      <td>-2.796325</td>\n",
       "    </tr>\n",
       "    <tr>\n",
       "      <th>463</th>\n",
       "      <td>521</td>\n",
       "      <td>7.0</td>\n",
       "      <td>7.0</td>\n",
       "      <td>7.0</td>\n",
       "      <td>7.0</td>\n",
       "      <td>1.0</td>\n",
       "      <td>7.0</td>\n",
       "      <td>7.0</td>\n",
       "      <td>7.0</td>\n",
       "      <td>7.0</td>\n",
       "      <td>7.0</td>\n",
       "      <td>7.0</td>\n",
       "      <td>-2.005561</td>\n",
       "    </tr>\n",
       "    <tr>\n",
       "      <th>40</th>\n",
       "      <td>42</td>\n",
       "      <td>7.0</td>\n",
       "      <td>7.0</td>\n",
       "      <td>4.0</td>\n",
       "      <td>7.0</td>\n",
       "      <td>7.0</td>\n",
       "      <td>7.0</td>\n",
       "      <td>7.0</td>\n",
       "      <td>7.0</td>\n",
       "      <td>7.0</td>\n",
       "      <td>7.0</td>\n",
       "      <td>7.0</td>\n",
       "      <td>-2.311142</td>\n",
       "    </tr>\n",
       "  </tbody>\n",
       "</table>\n",
       "</div>"
      ],
      "text/plain": [
       "     index  RELIGION  OPINION  DOCTOR  PRESS  PARTY  ORG  PROPERTY  TRAVEL  \\\n",
       "857    971       7.0      7.0     5.0    6.0    5.0  7.0       7.0     7.0   \n",
       "7        7       7.0      7.0     7.0    7.0    7.0  7.0       7.0     7.0   \n",
       "14      14       7.0      7.0     7.0    7.0    7.0  7.0       7.0     7.0   \n",
       "463    521       7.0      7.0     7.0    7.0    1.0  7.0       7.0     7.0   \n",
       "40      42       7.0      7.0     4.0    7.0    7.0  7.0       7.0     7.0   \n",
       "\n",
       "     LIFESTYLE  ENTERPR  POLITICS  principal component 1  \n",
       "857        7.0      7.0       7.0              -2.020739  \n",
       "7          7.0      7.0       7.0              -2.796325  \n",
       "14         7.0      7.0       7.0              -2.796325  \n",
       "463        7.0      7.0       7.0              -2.005561  \n",
       "40         7.0      7.0       7.0              -2.311142  "
      ]
     },
     "execution_count": 30,
     "metadata": {},
     "output_type": "execute_result"
    }
   ],
   "source": [
    "principalDf2[principalDf2['principal component 1']<-2].sample(5)"
   ]
  },
  {
   "cell_type": "markdown",
   "metadata": {},
   "source": [
    "### How the coverage increases with including more PCs?"
   ]
  },
  {
   "cell_type": "code",
   "execution_count": 31,
   "metadata": {},
   "outputs": [
    {
     "data": {
      "image/png": "[encoded data removed]",
      "text/plain": [
       "<Figure size 432x288 with 1 Axes>"
      ]
     },
     "metadata": {},
     "output_type": "display_data"
    }
   ],
   "source": [
    "pca_all = PCA().fit(scaled_szabvagyPCA)\n",
    "plt.plot(np.cumsum(pca_all.explained_variance_ratio_))\n",
    "plt.xlabel('number of components')\n",
    "plt.ylabel('cumulative explained variance');"
   ]
  },
  {
   "cell_type": "markdown",
   "metadata": {},
   "source": [
    "### correlations between the PC and the variables"
   ]
  },
  {
   "cell_type": "code",
   "execution_count": 32,
   "metadata": {},
   "outputs": [],
   "source": [
    "pc_stat = pd.DataFrame(list(zip(list(scaled_szabvagyPCA.columns),pca1.components_[0])),\n",
    "                       columns = ['Values','Components'])\n",
    "#pc_stat"
   ]
  },
  {
   "cell_type": "code",
   "execution_count": 33,
   "metadata": {},
   "outputs": [
    {
     "data": {
      "image/png": "[encoded data removed]",
      "text/plain": [
       "<Figure size 720x576 with 1 Axes>"
      ]
     },
     "metadata": {},
     "output_type": "display_data"
    }
   ],
   "source": [
    "ax = pc_stat.plot.bar(x='Values', y='Components', rot=45, figsize=(10,8),fontsize=12)"
   ]
  },
  {
   "cell_type": "markdown",
   "metadata": {},
   "source": [
    "### Scree Plot and Eigenvalues"
   ]
  },
  {
   "cell_type": "code",
   "execution_count": 34,
   "metadata": {},
   "outputs": [
    {
     "name": "stdout",
     "output_type": "stream",
     "text": [
      "EigenValues: [5.30307301 1.45367447 0.99314496 0.68436822 0.50825173 0.47168348\n",
      " 0.39409078 0.36985369 0.31970264 0.2637159  0.25092694] \n",
      "%of Variance [0.48155095 0.13200239 0.09018354 0.06214475 0.04615232 0.0428317\n",
      " 0.03578581 0.03358494 0.02903092 0.02394699 0.02278568]\n"
     ]
    }
   ],
   "source": [
    "pca = PCA(n_components=11)\n",
    "pca.fit(scaled_szabvagyPCA)\n",
    "print(\"EigenValues:\",pca.explained_variance_,\"\\n%of Variance\",pca.explained_variance_ratio_)"
   ]
  },
  {
   "cell_type": "code",
   "execution_count": 35,
   "metadata": {},
   "outputs": [
    {
     "data": {
      "image/png": "[encoded data removed]",
      "text/plain": [
       "<Figure size 432x288 with 1 Axes>"
      ]
     },
     "metadata": {},
     "output_type": "display_data"
    }
   ],
   "source": [
    "xax = list(range(1,len(pca.explained_variance_)+1))\n",
    "plt.plot(xax,pca.explained_variance_)\n",
    "plt.xlabel('component number')\n",
    "plt.ylabel('Eigen Values')\n",
    "plt.show()"
   ]
  },
  {
   "cell_type": "markdown",
   "metadata": {},
   "source": [
    "#### In theory one more PC can be involved as we have 2 PC with >1 eigenvalue"
   ]
  },
  {
   "cell_type": "markdown",
   "metadata": {},
   "source": [
    "### Let's have more understanding: correlation matrix"
   ]
  },
  {
   "cell_type": "code",
   "execution_count": 36,
   "metadata": {},
   "outputs": [
    {
     "name": "stdout",
     "output_type": "stream",
     "text": [
      "                       RELIGION   OPINION    DOCTOR     PRESS     PARTY  \\\n",
      "RELIGION               1.000000  0.410046  0.264070  0.296073  0.337741   \n",
      "OPINION                0.410046  1.000000  0.451434  0.507720  0.361630   \n",
      "DOCTOR                 0.264070  0.451434  1.000000  0.459182  0.274277   \n",
      "PRESS                  0.296073  0.507720  0.459182  1.000000  0.477480   \n",
      "PARTY                  0.337741  0.361630  0.274277  0.477480  1.000000   \n",
      "ORG                    0.287871  0.379311  0.255438  0.512111  0.731108   \n",
      "PROPERTY               0.107346  0.353044  0.270609  0.407403  0.382746   \n",
      "TRAVEL                 0.097182  0.421429  0.281090  0.465836  0.354460   \n",
      "LIFESTYLE              0.110255  0.376922  0.300493  0.450500  0.338937   \n",
      "ENTERPR                0.090520  0.323037  0.228126  0.473449  0.400412   \n",
      "POLITICS               0.272274  0.442236  0.308846  0.560341  0.561222   \n",
      "principal component 1 -0.367988 -0.640622 -0.504528 -0.740128 -0.686354   \n",
      "\n",
      "                            ORG  PROPERTY    TRAVEL  LIFESTYLE   ENTERPR  \\\n",
      "RELIGION               0.287871  0.107346  0.097182   0.110255  0.090520   \n",
      "OPINION                0.379311  0.353044  0.421429   0.376922  0.323037   \n",
      "DOCTOR                 0.255438  0.270609  0.281090   0.300493  0.228126   \n",
      "PRESS                  0.512111  0.407403  0.465836   0.450500  0.473449   \n",
      "PARTY                  0.731108  0.382746  0.354460   0.338937  0.400412   \n",
      "ORG                    1.000000  0.457770  0.421388   0.406605  0.467384   \n",
      "PROPERTY               0.457770  1.000000  0.624484   0.653499  0.639630   \n",
      "TRAVEL                 0.421388  0.624484  1.000000   0.726600  0.669227   \n",
      "LIFESTYLE              0.406605  0.653499  0.726600   1.000000  0.667183   \n",
      "ENTERPR                0.467384  0.639630  0.669227   0.667183  1.000000   \n",
      "POLITICS               0.550346  0.519183  0.544391   0.558276  0.585401   \n",
      "principal component 1 -0.728248 -0.740940 -0.769677  -0.766552 -0.765001   \n",
      "\n",
      "                       POLITICS  principal component 1  \n",
      "RELIGION               0.272274              -0.367988  \n",
      "OPINION                0.442236              -0.640622  \n",
      "DOCTOR                 0.308846              -0.504528  \n",
      "PRESS                  0.560341              -0.740128  \n",
      "PARTY                  0.561222              -0.686354  \n",
      "ORG                    0.550346              -0.728248  \n",
      "PROPERTY               0.519183              -0.740940  \n",
      "TRAVEL                 0.544391              -0.769677  \n",
      "LIFESTYLE              0.558276              -0.766552  \n",
      "ENTERPR                0.585401              -0.765001  \n",
      "POLITICS               1.000000              -0.795776  \n",
      "principal component 1 -0.795776               1.000000  \n"
     ]
    }
   ],
   "source": [
    "principalDf3 = principalDf.drop(['index'],axis =1)\n",
    "## correlation matrix\n",
    "corrMatrix = principalDf3.corr()\n",
    "print (corrMatrix)"
   ]
  },
  {
   "cell_type": "code",
   "execution_count": 37,
   "metadata": {},
   "outputs": [
    {
     "data": {
      "image/png": "[encoded data removed]",
      "text/plain": [
       "<Figure size 432x288 with 2 Axes>"
      ]
     },
     "metadata": {},
     "output_type": "display_data"
    }
   ],
   "source": [
    "corrMatrix2 = abs(corrMatrix) # using absolute value gives better understanding from visualisation\n",
    "sns.heatmap(corrMatrix2,\n",
    "            cmap='coolwarm') # vmin=-1 if we want negative and positive too\n",
    "plt.show()"
   ]
  },
  {
   "cell_type": "markdown",
   "metadata": {},
   "source": [
    "RELIGION seems pretty uncorrelated with anything else -including PC, the same seems true for the DOCTOR"
   ]
  },
  {
   "cell_type": "markdown",
   "metadata": {},
   "source": [
    "### The component_ gives the coefficients to calculate the PC\n",
    "### In the correlation matrix, the last column is the SPSS's COMPONENT\n",
    "### COMMUNALITIES are the square of that column"
   ]
  },
  {
   "cell_type": "code",
   "execution_count": 39,
   "metadata": {},
   "outputs": [
    {
     "name": "stdout",
     "output_type": "stream",
     "text": [
      "RELIGION     0.135415\n",
      "OPINION      0.410397\n",
      "DOCTOR       0.254548\n",
      "PRESS        0.547789\n",
      "PARTY        0.471082\n",
      "ORG          0.530346\n",
      "PROPERTY     0.548991\n",
      "TRAVEL       0.592403\n",
      "LIFESTYLE    0.587602\n",
      "ENTERPR      0.585226\n",
      "POLITICS     0.633260\n",
      "Name: principal component 1, dtype: float64\n"
     ]
    }
   ],
   "source": [
    "#principalDf3.corrwith(principalDf3,principalDf3['principal component 1'], axis=1)\n",
    "communalities = (principalDf3[principalDf3.columns[:12]].corr()['principal component 1'][:])**2\n",
    "print(communalities[:11])"
   ]
  },
  {
   "cell_type": "code",
   "execution_count": 40,
   "metadata": {},
   "outputs": [
    {
     "data": {
      "text/plain": [
       "5.297060451257338"
      ]
     },
     "execution_count": 40,
     "metadata": {},
     "output_type": "execute_result"
    }
   ],
   "source": [
    "# it's equal with the first eigenvalue\n",
    "sum(communalities[:11])"
   ]
  },
  {
   "cell_type": "markdown",
   "metadata": {},
   "source": [
    "## Simple rule: less than 0.25 communalities means no relation (less than 0.5 correlation): get rid of that variables\n",
    "## Seems like Freedom of Religion is independent from the general freedom"
   ]
  },
  {
   "cell_type": "code",
   "execution_count": null,
   "metadata": {},
   "outputs": [],
   "source": []
  },
  {
   "cell_type": "code",
   "execution_count": null,
   "metadata": {},
   "outputs": [],
   "source": []
  },
  {
   "cell_type": "code",
   "execution_count": null,
   "metadata": {},
   "outputs": [],
   "source": []
  },
  {
   "cell_type": "code",
   "execution_count": null,
   "metadata": {},
   "outputs": [],
   "source": []
  },
  {
   "cell_type": "code",
   "execution_count": null,
   "metadata": {},
   "outputs": [],
   "source": []
  },
  {
   "cell_type": "code",
   "execution_count": null,
   "metadata": {},
   "outputs": [],
   "source": []
  },
  {
   "cell_type": "markdown",
   "metadata": {},
   "source": [
    "## FACTOR ANALYSIS"
   ]
  },
  {
   "cell_type": "code",
   "execution_count": 41,
   "metadata": {},
   "outputs": [],
   "source": [
    "from sklearn.decomposition import FactorAnalysis"
   ]
  },
  {
   "cell_type": "code",
   "execution_count": 42,
   "metadata": {},
   "outputs": [
    {
     "data": {
      "text/plain": [
       "array([[-0.28278792, -0.54466163, -0.4096349 , -0.66433006, -0.66618045,\n",
       "        -0.70965284, -0.73244282, -0.77727841, -0.77989527, -0.76842088,\n",
       "        -0.75950039],\n",
       "       [ 0.34093995,  0.11671951,  0.09027565,  0.15673961,  0.51945282,\n",
       "         0.4132249 , -0.21455166, -0.31960104, -0.35252721, -0.22722402,\n",
       "         0.09908914]])"
      ]
     },
     "execution_count": 42,
     "metadata": {},
     "output_type": "execute_result"
    }
   ],
   "source": [
    "fa = FactorAnalysis(n_components=2)\n",
    "szabad_fa2 = fa.fit_transform(scaled_szabvagyPCA)\n",
    "fa.components_"
   ]
  },
  {
   "cell_type": "code",
   "execution_count": 43,
   "metadata": {},
   "outputs": [
    {
     "data": {
      "text/plain": [
       "{'copy': True,\n",
       " 'iterated_power': 3,\n",
       " 'max_iter': 1000,\n",
       " 'n_components': 2,\n",
       " 'noise_variance_init': None,\n",
       " 'random_state': 0,\n",
       " 'svd_method': 'randomized',\n",
       " 'tol': 0.01}"
      ]
     },
     "execution_count": 43,
     "metadata": {},
     "output_type": "execute_result"
    }
   ],
   "source": [
    "fa.get_params()"
   ]
  },
  {
   "cell_type": "code",
   "execution_count": 44,
   "metadata": {},
   "outputs": [
    {
     "data": {
      "text/html": [
       "<div>\n",
       "<style scoped>\n",
       "    .dataframe tbody tr th:only-of-type {\n",
       "        vertical-align: middle;\n",
       "    }\n",
       "\n",
       "    .dataframe tbody tr th {\n",
       "        vertical-align: top;\n",
       "    }\n",
       "\n",
       "    .dataframe thead th {\n",
       "        text-align: right;\n",
       "    }\n",
       "</style>\n",
       "<table border=\"1\" class=\"dataframe\">\n",
       "  <thead>\n",
       "    <tr style=\"text-align: right;\">\n",
       "      <th></th>\n",
       "      <th>factor1</th>\n",
       "      <th>factor2</th>\n",
       "    </tr>\n",
       "  </thead>\n",
       "  <tbody>\n",
       "    <tr>\n",
       "      <th>0</th>\n",
       "      <td>-0.282788</td>\n",
       "      <td>0.340940</td>\n",
       "    </tr>\n",
       "    <tr>\n",
       "      <th>1</th>\n",
       "      <td>-0.544662</td>\n",
       "      <td>0.116720</td>\n",
       "    </tr>\n",
       "    <tr>\n",
       "      <th>2</th>\n",
       "      <td>-0.409635</td>\n",
       "      <td>0.090276</td>\n",
       "    </tr>\n",
       "    <tr>\n",
       "      <th>3</th>\n",
       "      <td>-0.664330</td>\n",
       "      <td>0.156740</td>\n",
       "    </tr>\n",
       "    <tr>\n",
       "      <th>4</th>\n",
       "      <td>-0.666180</td>\n",
       "      <td>0.519453</td>\n",
       "    </tr>\n",
       "    <tr>\n",
       "      <th>5</th>\n",
       "      <td>-0.709653</td>\n",
       "      <td>0.413225</td>\n",
       "    </tr>\n",
       "    <tr>\n",
       "      <th>6</th>\n",
       "      <td>-0.732443</td>\n",
       "      <td>-0.214552</td>\n",
       "    </tr>\n",
       "    <tr>\n",
       "      <th>7</th>\n",
       "      <td>-0.777278</td>\n",
       "      <td>-0.319601</td>\n",
       "    </tr>\n",
       "    <tr>\n",
       "      <th>8</th>\n",
       "      <td>-0.779895</td>\n",
       "      <td>-0.352527</td>\n",
       "    </tr>\n",
       "    <tr>\n",
       "      <th>9</th>\n",
       "      <td>-0.768421</td>\n",
       "      <td>-0.227224</td>\n",
       "    </tr>\n",
       "    <tr>\n",
       "      <th>10</th>\n",
       "      <td>-0.759500</td>\n",
       "      <td>0.099089</td>\n",
       "    </tr>\n",
       "  </tbody>\n",
       "</table>\n",
       "</div>"
      ],
      "text/plain": [
       "     factor1   factor2\n",
       "0  -0.282788  0.340940\n",
       "1  -0.544662  0.116720\n",
       "2  -0.409635  0.090276\n",
       "3  -0.664330  0.156740\n",
       "4  -0.666180  0.519453\n",
       "5  -0.709653  0.413225\n",
       "6  -0.732443 -0.214552\n",
       "7  -0.777278 -0.319601\n",
       "8  -0.779895 -0.352527\n",
       "9  -0.768421 -0.227224\n",
       "10 -0.759500  0.099089"
      ]
     },
     "execution_count": 44,
     "metadata": {},
     "output_type": "execute_result"
    }
   ],
   "source": [
    "pd.DataFrame(fa.components_.T, columns = ['factor1','factor2'])"
   ]
  },
  {
   "cell_type": "code",
   "execution_count": 45,
   "metadata": {},
   "outputs": [
    {
     "data": {
      "text/html": [
       "<div>\n",
       "<style scoped>\n",
       "    .dataframe tbody tr th:only-of-type {\n",
       "        vertical-align: middle;\n",
       "    }\n",
       "\n",
       "    .dataframe tbody tr th {\n",
       "        vertical-align: top;\n",
       "    }\n",
       "\n",
       "    .dataframe thead th {\n",
       "        text-align: right;\n",
       "    }\n",
       "</style>\n",
       "<table border=\"1\" class=\"dataframe\">\n",
       "  <thead>\n",
       "    <tr style=\"text-align: right;\">\n",
       "      <th></th>\n",
       "      <th>index</th>\n",
       "      <th>RELIGION</th>\n",
       "      <th>OPINION</th>\n",
       "      <th>DOCTOR</th>\n",
       "      <th>PRESS</th>\n",
       "      <th>PARTY</th>\n",
       "      <th>ORG</th>\n",
       "      <th>PROPERTY</th>\n",
       "      <th>TRAVEL</th>\n",
       "      <th>LIFESTYLE</th>\n",
       "      <th>ENTERPR</th>\n",
       "      <th>POLITICS</th>\n",
       "      <th>Factor_1</th>\n",
       "      <th>Factor_2</th>\n",
       "    </tr>\n",
       "  </thead>\n",
       "  <tbody>\n",
       "    <tr>\n",
       "      <th>877</th>\n",
       "      <td>877</td>\n",
       "      <td>-0.442373</td>\n",
       "      <td>-0.029326</td>\n",
       "      <td>-0.058553</td>\n",
       "      <td>0.228670</td>\n",
       "      <td>0.447955</td>\n",
       "      <td>0.299854</td>\n",
       "      <td>-0.341513</td>\n",
       "      <td>0.054105</td>\n",
       "      <td>-0.579178</td>\n",
       "      <td>0.757275</td>\n",
       "      <td>0.329072</td>\n",
       "      <td>-0.129542</td>\n",
       "      <td>0.406984</td>\n",
       "    </tr>\n",
       "    <tr>\n",
       "      <th>878</th>\n",
       "      <td>878</td>\n",
       "      <td>-0.442373</td>\n",
       "      <td>-0.747820</td>\n",
       "      <td>-0.796316</td>\n",
       "      <td>0.228670</td>\n",
       "      <td>0.006013</td>\n",
       "      <td>-0.163318</td>\n",
       "      <td>0.828251</td>\n",
       "      <td>0.650616</td>\n",
       "      <td>-0.579178</td>\n",
       "      <td>0.757275</td>\n",
       "      <td>0.828628</td>\n",
       "      <td>-0.240074</td>\n",
       "      <td>-0.313496</td>\n",
       "    </tr>\n",
       "    <tr>\n",
       "      <th>879</th>\n",
       "      <td>879</td>\n",
       "      <td>-1.861185</td>\n",
       "      <td>-1.466313</td>\n",
       "      <td>-1.534080</td>\n",
       "      <td>-0.943930</td>\n",
       "      <td>0.006013</td>\n",
       "      <td>-0.163318</td>\n",
       "      <td>-0.926395</td>\n",
       "      <td>-1.138917</td>\n",
       "      <td>-1.213755</td>\n",
       "      <td>-0.790022</td>\n",
       "      <td>-0.670039</td>\n",
       "      <td>1.062014</td>\n",
       "      <td>0.523766</td>\n",
       "    </tr>\n",
       "    <tr>\n",
       "      <th>880</th>\n",
       "      <td>880</td>\n",
       "      <td>-1.388248</td>\n",
       "      <td>-2.184807</td>\n",
       "      <td>-3.009607</td>\n",
       "      <td>-2.116531</td>\n",
       "      <td>-0.877871</td>\n",
       "      <td>-1.089663</td>\n",
       "      <td>-2.096159</td>\n",
       "      <td>-2.331939</td>\n",
       "      <td>-2.482911</td>\n",
       "      <td>-2.337319</td>\n",
       "      <td>-2.168706</td>\n",
       "      <td>2.574562</td>\n",
       "      <td>0.787778</td>\n",
       "    </tr>\n",
       "    <tr>\n",
       "      <th>881</th>\n",
       "      <td>881</td>\n",
       "      <td>0.030564</td>\n",
       "      <td>-0.747820</td>\n",
       "      <td>-0.058553</td>\n",
       "      <td>-0.943930</td>\n",
       "      <td>0.006013</td>\n",
       "      <td>-0.163318</td>\n",
       "      <td>-0.341513</td>\n",
       "      <td>-0.542406</td>\n",
       "      <td>-0.579178</td>\n",
       "      <td>-0.274256</td>\n",
       "      <td>-0.670039</td>\n",
       "      <td>0.535886</td>\n",
       "      <td>0.251516</td>\n",
       "    </tr>\n",
       "  </tbody>\n",
       "</table>\n",
       "</div>"
      ],
      "text/plain": [
       "     index  RELIGION   OPINION    DOCTOR     PRESS     PARTY       ORG  \\\n",
       "877    877 -0.442373 -0.029326 -0.058553  0.228670  0.447955  0.299854   \n",
       "878    878 -0.442373 -0.747820 -0.796316  0.228670  0.006013 -0.163318   \n",
       "879    879 -1.861185 -1.466313 -1.534080 -0.943930  0.006013 -0.163318   \n",
       "880    880 -1.388248 -2.184807 -3.009607 -2.116531 -0.877871 -1.089663   \n",
       "881    881  0.030564 -0.747820 -0.058553 -0.943930  0.006013 -0.163318   \n",
       "\n",
       "     PROPERTY    TRAVEL  LIFESTYLE   ENTERPR  POLITICS  Factor_1  Factor_2  \n",
       "877 -0.341513  0.054105  -0.579178  0.757275  0.329072 -0.129542  0.406984  \n",
       "878  0.828251  0.650616  -0.579178  0.757275  0.828628 -0.240074 -0.313496  \n",
       "879 -0.926395 -1.138917  -1.213755 -0.790022 -0.670039  1.062014  0.523766  \n",
       "880 -2.096159 -2.331939  -2.482911 -2.337319 -2.168706  2.574562  0.787778  \n",
       "881 -0.341513 -0.542406  -0.579178 -0.274256 -0.670039  0.535886  0.251516  "
      ]
     },
     "execution_count": 45,
     "metadata": {},
     "output_type": "execute_result"
    }
   ],
   "source": [
    "fa_df = pd.DataFrame(data = szabad_fa2,columns = ['Factor_1', 'Factor_2'])\n",
    "scaled_szabvagyFA_idx = scaled_szabvagyPCA.reset_index()\n",
    "FactorDf = pd.concat([scaled_szabvagyFA_idx,\n",
    "                         fa_df],\n",
    "                        axis = 1, sort=False)\n",
    "FactorDf.tail()"
   ]
  },
  {
   "cell_type": "code",
   "execution_count": 46,
   "metadata": {},
   "outputs": [
    {
     "name": "stdout",
     "output_type": "stream",
     "text": [
      "           RELIGION   OPINION    DOCTOR     PRESS     PARTY       ORG  \\\n",
      "RELIGION   1.000000  0.410046  0.264070  0.296073  0.337741  0.287871   \n",
      "OPINION    0.410046  1.000000  0.451434  0.507720  0.361630  0.379311   \n",
      "DOCTOR     0.264070  0.451434  1.000000  0.459182  0.274277  0.255438   \n",
      "PRESS      0.296073  0.507720  0.459182  1.000000  0.477480  0.512111   \n",
      "PARTY      0.337741  0.361630  0.274277  0.477480  1.000000  0.731108   \n",
      "ORG        0.287871  0.379311  0.255438  0.512111  0.731108  1.000000   \n",
      "PROPERTY   0.107346  0.353044  0.270609  0.407403  0.382746  0.457770   \n",
      "TRAVEL     0.097182  0.421429  0.281090  0.465836  0.354460  0.421388   \n",
      "LIFESTYLE  0.110255  0.376922  0.300493  0.450500  0.338937  0.406605   \n",
      "ENTERPR    0.090520  0.323037  0.228126  0.473449  0.400412  0.467384   \n",
      "POLITICS   0.272274  0.442236  0.308846  0.560341  0.561222  0.550346   \n",
      "Factor_1  -0.293217 -0.564749 -0.424743 -0.688831 -0.690750 -0.735825   \n",
      "Factor_2   0.397675  0.136143  0.105298  0.182822  0.605894  0.481989   \n",
      "\n",
      "           PROPERTY    TRAVEL  LIFESTYLE   ENTERPR  POLITICS      Factor_1  \\\n",
      "RELIGION   0.107346  0.097182   0.110255  0.090520  0.272274 -2.932174e-01   \n",
      "OPINION    0.353044  0.421429   0.376922  0.323037  0.442236 -5.647492e-01   \n",
      "DOCTOR     0.270609  0.281090   0.300493  0.228126  0.308846 -4.247426e-01   \n",
      "PRESS      0.407403  0.465836   0.450500  0.473449  0.560341 -6.888311e-01   \n",
      "PARTY      0.382746  0.354460   0.338937  0.400412  0.561222 -6.907498e-01   \n",
      "ORG        0.457770  0.421388   0.406605  0.467384  0.550346 -7.358255e-01   \n",
      "PROPERTY   1.000000  0.624484   0.653499  0.639630  0.519183 -7.594560e-01   \n",
      "TRAVEL     0.624484  1.000000   0.726600  0.669227  0.544391 -8.059451e-01   \n",
      "LIFESTYLE  0.653499  0.726600   1.000000  0.667183  0.558276 -8.086585e-01   \n",
      "ENTERPR    0.639630  0.669227   0.667183  1.000000  0.585401 -7.967609e-01   \n",
      "POLITICS   0.519183  0.544391   0.558276  0.585401  1.000000 -7.875114e-01   \n",
      "Factor_1  -0.759456 -0.805945  -0.808658 -0.796761 -0.787511  1.000000e+00   \n",
      "Factor_2  -0.250255 -0.372785  -0.411191 -0.265036  0.115578  2.595986e-14   \n",
      "\n",
      "               Factor_2  \n",
      "RELIGION   3.976753e-01  \n",
      "OPINION    1.361426e-01  \n",
      "DOCTOR     1.052983e-01  \n",
      "PRESS      1.828224e-01  \n",
      "PARTY      6.058942e-01  \n",
      "ORG        4.819891e-01  \n",
      "PROPERTY  -2.502549e-01  \n",
      "TRAVEL    -3.727854e-01  \n",
      "LIFESTYLE -4.111908e-01  \n",
      "ENTERPR   -2.650360e-01  \n",
      "POLITICS   1.155784e-01  \n",
      "Factor_1   2.595986e-14  \n",
      "Factor_2   1.000000e+00  \n"
     ]
    }
   ],
   "source": [
    "FactorDf3 = FactorDf.drop(['index'],axis =1)\n",
    "## correlation matrix\n",
    "corrMatrix = FactorDf3.corr()\n",
    "print (corrMatrix)"
   ]
  },
  {
   "cell_type": "code",
   "execution_count": 47,
   "metadata": {},
   "outputs": [
    {
     "data": {
      "image/png": "[encoded data removed]",
      "text/plain": [
       "<Figure size 432x288 with 2 Axes>"
      ]
     },
     "metadata": {},
     "output_type": "display_data"
    }
   ],
   "source": [
    "corrMatrix2 = abs(corrMatrix)\n",
    "sns.heatmap(corrMatrix2,\n",
    "            cmap='coolwarm') # vmin=-1 if we want negative and positive too\n",
    "plt.show()"
   ]
  },
  {
   "cell_type": "markdown",
   "metadata": {},
   "source": [
    "#### From the heatmap it seems, that factor 1 takes it all - similar to the PCA from above:("
   ]
  },
  {
   "cell_type": "code",
   "execution_count": 48,
   "metadata": {},
   "outputs": [
    {
     "name": "stdout",
     "output_type": "stream",
     "text": [
      "       Values  communalities1  communalities2  communalities\n",
      "0    RELIGION        0.085976        0.158146       0.244122\n",
      "1     OPINION        0.318942        0.018535       0.337477\n",
      "2      DOCTOR        0.180406        0.011088       0.191494\n",
      "3       PRESS        0.474488        0.033424       0.507912\n",
      "4       PARTY        0.477135        0.367108       0.844243\n",
      "5         ORG        0.541439        0.232313       0.773753\n",
      "6    PROPERTY        0.576773        0.062628       0.639401\n",
      "7      TRAVEL        0.649548        0.138969       0.788516\n",
      "8   LIFESTYLE        0.653929        0.169078       0.823006\n",
      "9     ENTERPR        0.634828        0.070244       0.705072\n",
      "10   POLITICS        0.620174        0.013358       0.633533\n"
     ]
    }
   ],
   "source": [
    "#principalDf3.corrwith(principalDf3,principalDf3['principal component 1'], axis=1)\n",
    "communalities1 = (FactorDf3[FactorDf3.columns[:12]].corr()['Factor_1'][:])**2\n",
    "communalities2 = (FactorDf3.corr()['Factor_2'][:])**2\n",
    "factor_stat = pd.DataFrame(list(zip(list(scaled_szabvagyPCA.columns),communalities1[:11],communalities2[:11])),\n",
    "                       columns = ['Values','communalities1','communalities2'])\n",
    "factor_stat['communalities'] = factor_stat['communalities1']+factor_stat['communalities2']\n",
    "print(factor_stat)"
   ]
  },
  {
   "cell_type": "code",
   "execution_count": null,
   "metadata": {},
   "outputs": [],
   "source": []
  },
  {
   "cell_type": "markdown",
   "metadata": {},
   "source": [
    "##### Rotation will be New in Sklearn version 0.24. - so far it's still unstable"
   ]
  },
  {
   "cell_type": "markdown",
   "metadata": {},
   "source": [
    "## Let's use a different package for the exploratory Factor Analysis\n",
    "##### ! pip install factor_analyzer"
   ]
  },
  {
   "cell_type": "code",
   "execution_count": 49,
   "metadata": {},
   "outputs": [],
   "source": [
    "from factor_analyzer import FactorAnalyzer"
   ]
  },
  {
   "cell_type": "markdown",
   "metadata": {},
   "source": [
    "### Adequacy Test\n",
    "Before we perform factor analysis, we need to evaluate the “factorability” of our dataset. Factorability means \"can we found the factors in the dataset?\". There are two methods to check the factorability or sampling adequacy:\n",
    "\n",
    "#### Bartlett’s Test\n",
    "#### Kaiser-Meyer-Olkin Test\n",
    "**Bartlett’s test of sphericity** checks whether or not the observed variables intercorrelate at all using the observed correlation matrix against the identity matrix. If the test found statistically insignificant, you should not employ a factor analysis."
   ]
  },
  {
   "cell_type": "code",
   "execution_count": 50,
   "metadata": {},
   "outputs": [
    {
     "data": {
      "text/plain": [
       "(4889.644618420729, 0.0)"
      ]
     },
     "execution_count": 50,
     "metadata": {},
     "output_type": "execute_result"
    }
   ],
   "source": [
    "from factor_analyzer.factor_analyzer import calculate_bartlett_sphericity\n",
    "chi_square_value,p_value=calculate_bartlett_sphericity(scaled_szabvagyPCA)\n",
    "chi_square_value, p_value"
   ]
  },
  {
   "cell_type": "markdown",
   "metadata": {},
   "source": [
    "**Kaiser-Meyer-Olkin (KMO) Test** measures the suitability of data for factor analysis. It determines the adequacy for each observed variable and for the complete model. KMO estimates the proportion of variance among all the observed variable. Lower proportion id more suitable for factor analysis. KMO values range between 0 and 1. Value of KMO less than 0.6 is considered inadequate."
   ]
  },
  {
   "cell_type": "code",
   "execution_count": 51,
   "metadata": {},
   "outputs": [
    {
     "data": {
      "text/plain": [
       "0.8965334498413022"
      ]
     },
     "execution_count": 51,
     "metadata": {},
     "output_type": "execute_result"
    }
   ],
   "source": [
    "from factor_analyzer.factor_analyzer import calculate_kmo\n",
    "kmo_all,kmo_model=calculate_kmo(scaled_szabvagyPCA)\n",
    "kmo_model"
   ]
  },
  {
   "cell_type": "markdown",
   "metadata": {},
   "source": [
    "### Both tests show that we can start the factor analysis"
   ]
  },
  {
   "cell_type": "markdown",
   "metadata": {},
   "source": [
    "Choosing the Number of Factors For choosing the number of factors, we can use the Kaiser criterion and scree plot. Both are based on eigenvalues."
   ]
  },
  {
   "cell_type": "code",
   "execution_count": 52,
   "metadata": {},
   "outputs": [
    {
     "data": {
      "text/plain": [
       "array([5.29706045, 1.45202631, 0.99201894, 0.68359229, 0.50767548,\n",
       "       0.47114869, 0.39364396, 0.36943436, 0.31934017, 0.2634169 ,\n",
       "       0.25064245])"
      ]
     },
     "execution_count": 52,
     "metadata": {},
     "output_type": "execute_result"
    }
   ],
   "source": [
    "# Create factor analysis object and perform factor analysis\n",
    "fa = FactorAnalyzer()\n",
    "fa.set_params(n_factors=25, rotation=None)\n",
    "fa.fit(scaled_szabvagyPCA)\n",
    "#fa.analyze(df, 25, rotation=None)\n",
    "# Check Eigenvalues\n",
    "ev, v = fa.get_eigenvalues()\n",
    "ev"
   ]
  },
  {
   "cell_type": "code",
   "execution_count": 53,
   "metadata": {},
   "outputs": [
    {
     "data": {
      "image/png": "[encoded data removed]",
      "text/plain": [
       "<Figure size 432x288 with 1 Axes>"
      ]
     },
     "metadata": {},
     "output_type": "display_data"
    }
   ],
   "source": [
    "# Create scree plot using matplotlib\n",
    "plt.scatter(range(1,scaled_szabvagyPCA.shape[1]+1),ev)\n",
    "plt.plot(range(1,scaled_szabvagyPCA.shape[1]+1),ev)\n",
    "plt.title('Scree Plot')\n",
    "plt.xlabel('Factors')\n",
    "plt.ylabel('Eigenvalue')\n",
    "plt.grid()\n",
    "plt.show()"
   ]
  },
  {
   "cell_type": "markdown",
   "metadata": {},
   "source": [
    "### as we've seen before, 2 factors seems ideal"
   ]
  },
  {
   "cell_type": "code",
   "execution_count": 54,
   "metadata": {},
   "outputs": [
    {
     "data": {
      "text/plain": [
       "FactorAnalyzer(bounds=(0.005, 1), impute='median', is_corr_matrix=False,\n",
       "               method='minres', n_factors=2, rotation='varimax',\n",
       "               rotation_kwargs={}, use_smc=True)"
      ]
     },
     "execution_count": 54,
     "metadata": {},
     "output_type": "execute_result"
    }
   ],
   "source": [
    "fa = FactorAnalyzer()\n",
    "fa.set_params(n_factors=2, rotation='varimax')\n",
    "fa.fit(scaled_szabvagyPCA)"
   ]
  },
  {
   "cell_type": "code",
   "execution_count": 55,
   "metadata": {},
   "outputs": [
    {
     "data": {
      "text/html": [
       "<div>\n",
       "<style scoped>\n",
       "    .dataframe tbody tr th:only-of-type {\n",
       "        vertical-align: middle;\n",
       "    }\n",
       "\n",
       "    .dataframe tbody tr th {\n",
       "        vertical-align: top;\n",
       "    }\n",
       "\n",
       "    .dataframe thead th {\n",
       "        text-align: right;\n",
       "    }\n",
       "</style>\n",
       "<table border=\"1\" class=\"dataframe\">\n",
       "  <thead>\n",
       "    <tr style=\"text-align: right;\">\n",
       "      <th></th>\n",
       "      <th>Factor1</th>\n",
       "      <th>Factor2</th>\n",
       "    </tr>\n",
       "  </thead>\n",
       "  <tbody>\n",
       "    <tr>\n",
       "      <th>RELIGION</th>\n",
       "      <td>-0.037717</td>\n",
       "      <td>0.558312</td>\n",
       "    </tr>\n",
       "    <tr>\n",
       "      <th>OPINION</th>\n",
       "      <td>0.281924</td>\n",
       "      <td>0.585629</td>\n",
       "    </tr>\n",
       "    <tr>\n",
       "      <th>DOCTOR</th>\n",
       "      <td>0.205285</td>\n",
       "      <td>0.454619</td>\n",
       "    </tr>\n",
       "    <tr>\n",
       "      <th>PRESS</th>\n",
       "      <td>0.400369</td>\n",
       "      <td>0.616165</td>\n",
       "    </tr>\n",
       "    <tr>\n",
       "      <th>PARTY</th>\n",
       "      <td>0.292570</td>\n",
       "      <td>0.662265</td>\n",
       "    </tr>\n",
       "    <tr>\n",
       "      <th>ORG</th>\n",
       "      <td>0.381341</td>\n",
       "      <td>0.621370</td>\n",
       "    </tr>\n",
       "    <tr>\n",
       "      <th>PROPERTY</th>\n",
       "      <td>0.728235</td>\n",
       "      <td>0.245401</td>\n",
       "    </tr>\n",
       "    <tr>\n",
       "      <th>TRAVEL</th>\n",
       "      <td>0.797743</td>\n",
       "      <td>0.229324</td>\n",
       "    </tr>\n",
       "    <tr>\n",
       "      <th>LIFESTYLE</th>\n",
       "      <td>0.815140</td>\n",
       "      <td>0.208434</td>\n",
       "    </tr>\n",
       "    <tr>\n",
       "      <th>ENTERPR</th>\n",
       "      <td>0.784104</td>\n",
       "      <td>0.234563</td>\n",
       "    </tr>\n",
       "    <tr>\n",
       "      <th>POLITICS</th>\n",
       "      <td>0.550716</td>\n",
       "      <td>0.535110</td>\n",
       "    </tr>\n",
       "  </tbody>\n",
       "</table>\n",
       "</div>"
      ],
      "text/plain": [
       "            Factor1   Factor2\n",
       "RELIGION  -0.037717  0.558312\n",
       "OPINION    0.281924  0.585629\n",
       "DOCTOR     0.205285  0.454619\n",
       "PRESS      0.400369  0.616165\n",
       "PARTY      0.292570  0.662265\n",
       "ORG        0.381341  0.621370\n",
       "PROPERTY   0.728235  0.245401\n",
       "TRAVEL     0.797743  0.229324\n",
       "LIFESTYLE  0.815140  0.208434\n",
       "ENTERPR    0.784104  0.234563\n",
       "POLITICS   0.550716  0.535110"
      ]
     },
     "execution_count": 55,
     "metadata": {},
     "output_type": "execute_result"
    }
   ],
   "source": [
    "loadings = fa.loadings_ # correlations , the base of the communality calculation\n",
    "pd.DataFrame(data=loadings,index = list(scaled_szabvagyPCA.columns),columns=['Factor1','Factor2'])"
   ]
  },
  {
   "cell_type": "markdown",
   "metadata": {},
   "source": [
    "#### A bit more meaningful: Religion, Opinion, Doctor, Press, Party and Org are on the second factor\n",
    "#### Property, Travel, Lifestyle, Enterpreneurship on the first one and Politics on both\n",
    "#### Something like Public and Personal freedom\n",
    "#### But still Press and Org are too strong on the first so the factors are not perfect. There should be done some more work on this"
   ]
  },
  {
   "cell_type": "code",
   "execution_count": 56,
   "metadata": {},
   "outputs": [
    {
     "data": {
      "text/html": [
       "<div>\n",
       "<style scoped>\n",
       "    .dataframe tbody tr th:only-of-type {\n",
       "        vertical-align: middle;\n",
       "    }\n",
       "\n",
       "    .dataframe tbody tr th {\n",
       "        vertical-align: top;\n",
       "    }\n",
       "\n",
       "    .dataframe thead th {\n",
       "        text-align: right;\n",
       "    }\n",
       "</style>\n",
       "<table border=\"1\" class=\"dataframe\">\n",
       "  <thead>\n",
       "    <tr style=\"text-align: right;\">\n",
       "      <th></th>\n",
       "      <th>Factor1</th>\n",
       "      <th>Factor2</th>\n",
       "    </tr>\n",
       "  </thead>\n",
       "  <tbody>\n",
       "    <tr>\n",
       "      <th>SS Loadings</th>\n",
       "      <td>3.263640</td>\n",
       "      <td>2.563325</td>\n",
       "    </tr>\n",
       "    <tr>\n",
       "      <th>Proportion Var</th>\n",
       "      <td>0.296695</td>\n",
       "      <td>0.233030</td>\n",
       "    </tr>\n",
       "    <tr>\n",
       "      <th>Cumulative Var</th>\n",
       "      <td>0.296695</td>\n",
       "      <td>0.529724</td>\n",
       "    </tr>\n",
       "  </tbody>\n",
       "</table>\n",
       "</div>"
      ],
      "text/plain": [
       "                 Factor1   Factor2\n",
       "SS Loadings     3.263640  2.563325\n",
       "Proportion Var  0.296695  0.233030\n",
       "Cumulative Var  0.296695  0.529724"
      ]
     },
     "execution_count": 56,
     "metadata": {},
     "output_type": "execute_result"
    }
   ],
   "source": [
    "# Get variance of each factors\n",
    "pd.DataFrame(data=fa.get_factor_variance(),index = ['SS Loadings','Proportion Var','Cumulative Var'],\n",
    "             columns=['Factor1','Factor2'])"
   ]
  },
  {
   "cell_type": "code",
   "execution_count": 57,
   "metadata": {},
   "outputs": [],
   "source": [
    "fa_tr = fa.transform(scaled_szabvagyPCA)"
   ]
  },
  {
   "cell_type": "code",
   "execution_count": 58,
   "metadata": {},
   "outputs": [
    {
     "data": {
      "text/plain": [
       "array([[ 0.24949646, -0.20434665],\n",
       "       [ 0.61339625,  0.89603736],\n",
       "       [ 0.81865683,  0.37048628],\n",
       "       ...,\n",
       "       [-0.83805221, -0.86429186],\n",
       "       [-2.23260075, -1.53803442],\n",
       "       [-0.46636083, -0.35869345]])"
      ]
     },
     "execution_count": 58,
     "metadata": {},
     "output_type": "execute_result"
    }
   ],
   "source": [
    "fa_tr"
   ]
  },
  {
   "cell_type": "code",
   "execution_count": 59,
   "metadata": {},
   "outputs": [
    {
     "data": {
      "text/html": [
       "<div>\n",
       "<style scoped>\n",
       "    .dataframe tbody tr th:only-of-type {\n",
       "        vertical-align: middle;\n",
       "    }\n",
       "\n",
       "    .dataframe tbody tr th {\n",
       "        vertical-align: top;\n",
       "    }\n",
       "\n",
       "    .dataframe thead th {\n",
       "        text-align: right;\n",
       "    }\n",
       "</style>\n",
       "<table border=\"1\" class=\"dataframe\">\n",
       "  <thead>\n",
       "    <tr style=\"text-align: right;\">\n",
       "      <th></th>\n",
       "      <th>index</th>\n",
       "      <th>RELIGION</th>\n",
       "      <th>OPINION</th>\n",
       "      <th>DOCTOR</th>\n",
       "      <th>PRESS</th>\n",
       "      <th>PARTY</th>\n",
       "      <th>ORG</th>\n",
       "      <th>PROPERTY</th>\n",
       "      <th>TRAVEL</th>\n",
       "      <th>LIFESTYLE</th>\n",
       "      <th>ENTERPR</th>\n",
       "      <th>POLITICS</th>\n",
       "      <th>Factor1</th>\n",
       "      <th>Factor2</th>\n",
       "    </tr>\n",
       "  </thead>\n",
       "  <tbody>\n",
       "    <tr>\n",
       "      <th>0</th>\n",
       "      <td>0</td>\n",
       "      <td>0.976438</td>\n",
       "      <td>-1.466313</td>\n",
       "      <td>-1.534080</td>\n",
       "      <td>-2.116531</td>\n",
       "      <td>1.331839</td>\n",
       "      <td>1.226199</td>\n",
       "      <td>-2.096159</td>\n",
       "      <td>0.650616</td>\n",
       "      <td>0.689977</td>\n",
       "      <td>0.757275</td>\n",
       "      <td>0.828628</td>\n",
       "      <td>0.249496</td>\n",
       "      <td>-0.204347</td>\n",
       "    </tr>\n",
       "    <tr>\n",
       "      <th>1</th>\n",
       "      <td>1</td>\n",
       "      <td>0.976438</td>\n",
       "      <td>0.689167</td>\n",
       "      <td>-0.058553</td>\n",
       "      <td>0.814971</td>\n",
       "      <td>0.889897</td>\n",
       "      <td>1.226199</td>\n",
       "      <td>0.828251</td>\n",
       "      <td>0.650616</td>\n",
       "      <td>0.689977</td>\n",
       "      <td>0.757275</td>\n",
       "      <td>0.828628</td>\n",
       "      <td>0.613396</td>\n",
       "      <td>0.896037</td>\n",
       "    </tr>\n",
       "    <tr>\n",
       "      <th>2</th>\n",
       "      <td>2</td>\n",
       "      <td>-0.915310</td>\n",
       "      <td>0.689167</td>\n",
       "      <td>0.679211</td>\n",
       "      <td>0.814971</td>\n",
       "      <td>0.447955</td>\n",
       "      <td>0.763027</td>\n",
       "      <td>0.828251</td>\n",
       "      <td>0.650616</td>\n",
       "      <td>0.689977</td>\n",
       "      <td>0.757275</td>\n",
       "      <td>0.828628</td>\n",
       "      <td>0.818657</td>\n",
       "      <td>0.370486</td>\n",
       "    </tr>\n",
       "    <tr>\n",
       "      <th>3</th>\n",
       "      <td>3</td>\n",
       "      <td>0.976438</td>\n",
       "      <td>0.689167</td>\n",
       "      <td>-0.796316</td>\n",
       "      <td>0.814971</td>\n",
       "      <td>1.331839</td>\n",
       "      <td>1.226199</td>\n",
       "      <td>0.828251</td>\n",
       "      <td>0.650616</td>\n",
       "      <td>-0.579178</td>\n",
       "      <td>0.757275</td>\n",
       "      <td>0.828628</td>\n",
       "      <td>0.190248</td>\n",
       "      <td>1.083917</td>\n",
       "    </tr>\n",
       "    <tr>\n",
       "      <th>4</th>\n",
       "      <td>4</td>\n",
       "      <td>0.976438</td>\n",
       "      <td>-1.466313</td>\n",
       "      <td>0.679211</td>\n",
       "      <td>-2.702831</td>\n",
       "      <td>-1.319813</td>\n",
       "      <td>-1.552835</td>\n",
       "      <td>-2.681041</td>\n",
       "      <td>-2.928450</td>\n",
       "      <td>-1.213755</td>\n",
       "      <td>-2.337319</td>\n",
       "      <td>-2.168706</td>\n",
       "      <td>-2.444791</td>\n",
       "      <td>-0.867880</td>\n",
       "    </tr>\n",
       "  </tbody>\n",
       "</table>\n",
       "</div>"
      ],
      "text/plain": [
       "   index  RELIGION   OPINION    DOCTOR     PRESS     PARTY       ORG  \\\n",
       "0      0  0.976438 -1.466313 -1.534080 -2.116531  1.331839  1.226199   \n",
       "1      1  0.976438  0.689167 -0.058553  0.814971  0.889897  1.226199   \n",
       "2      2 -0.915310  0.689167  0.679211  0.814971  0.447955  0.763027   \n",
       "3      3  0.976438  0.689167 -0.796316  0.814971  1.331839  1.226199   \n",
       "4      4  0.976438 -1.466313  0.679211 -2.702831 -1.319813 -1.552835   \n",
       "\n",
       "   PROPERTY    TRAVEL  LIFESTYLE   ENTERPR  POLITICS   Factor1   Factor2  \n",
       "0 -2.096159  0.650616   0.689977  0.757275  0.828628  0.249496 -0.204347  \n",
       "1  0.828251  0.650616   0.689977  0.757275  0.828628  0.613396  0.896037  \n",
       "2  0.828251  0.650616   0.689977  0.757275  0.828628  0.818657  0.370486  \n",
       "3  0.828251  0.650616  -0.579178  0.757275  0.828628  0.190248  1.083917  \n",
       "4 -2.681041 -2.928450  -1.213755 -2.337319 -2.168706 -2.444791 -0.867880  "
      ]
     },
     "execution_count": 59,
     "metadata": {},
     "output_type": "execute_result"
    }
   ],
   "source": [
    "fa_df = pd.DataFrame(data = fa_tr,columns = ['Factor1','Factor2'])\n",
    "scaled_szabvagyPCA_idx = scaled_szabvagyPCA.reset_index()\n",
    "FaDf = pd.concat([scaled_szabvagyPCA_idx,\n",
    "                         fa_df],\n",
    "                        axis = 1, sort=False)\n",
    "FaDf.head()"
   ]
  },
  {
   "cell_type": "code",
   "execution_count": 60,
   "metadata": {},
   "outputs": [
    {
     "data": {
      "image/png": "[encoded data removed]",
      "text/plain": [
       "<Figure size 432x288 with 1 Axes>"
      ]
     },
     "metadata": {},
     "output_type": "display_data"
    }
   ],
   "source": [
    "FaDf[['Factor1','Factor2']].plot(kind='box')\n",
    "plt.show()"
   ]
  },
  {
   "cell_type": "code",
   "execution_count": 61,
   "metadata": {},
   "outputs": [
    {
     "name": "stdout",
     "output_type": "stream",
     "text": [
      "           RELIGION   OPINION    DOCTOR     PRESS     PARTY       ORG  \\\n",
      "RELIGION   1.000000  0.410046  0.264070  0.296073  0.337741  0.287871   \n",
      "OPINION    0.410046  1.000000  0.451434  0.507720  0.361630  0.379311   \n",
      "DOCTOR     0.264070  0.451434  1.000000  0.459182  0.274277  0.255438   \n",
      "PRESS      0.296073  0.507720  0.459182  1.000000  0.477480  0.512111   \n",
      "PARTY      0.337741  0.361630  0.274277  0.477480  1.000000  0.731108   \n",
      "ORG        0.287871  0.379311  0.255438  0.512111  0.731108  1.000000   \n",
      "PROPERTY   0.107346  0.353044  0.270609  0.407403  0.382746  0.457770   \n",
      "TRAVEL     0.097182  0.421429  0.281090  0.465836  0.354460  0.421388   \n",
      "LIFESTYLE  0.110255  0.376922  0.300493  0.450500  0.338937  0.406605   \n",
      "ENTERPR    0.090520  0.323037  0.228126  0.473449  0.400412  0.467384   \n",
      "POLITICS   0.272274  0.442236  0.308846  0.560341  0.561222  0.550346   \n",
      "Factor1   -0.040905  0.305749  0.222633  0.434202  0.317294  0.413567   \n",
      "Factor2    0.643581  0.675071  0.524052  0.710271  0.763411  0.716271   \n",
      "\n",
      "           PROPERTY    TRAVEL  LIFESTYLE   ENTERPR  POLITICS   Factor1  \\\n",
      "RELIGION   0.107346  0.097182   0.110255  0.090520  0.272274 -0.040905   \n",
      "OPINION    0.353044  0.421429   0.376922  0.323037  0.442236  0.305749   \n",
      "DOCTOR     0.270609  0.281090   0.300493  0.228126  0.308846  0.222633   \n",
      "PRESS      0.407403  0.465836   0.450500  0.473449  0.560341  0.434202   \n",
      "PARTY      0.382746  0.354460   0.338937  0.400412  0.561222  0.317294   \n",
      "ORG        0.457770  0.421388   0.406605  0.467384  0.550346  0.413567   \n",
      "PROPERTY   1.000000  0.624484   0.653499  0.639630  0.519183  0.789775   \n",
      "TRAVEL     0.624484  1.000000   0.726600  0.669227  0.544391  0.865157   \n",
      "LIFESTYLE  0.653499  0.726600   1.000000  0.667183  0.558276  0.884024   \n",
      "ENTERPR    0.639630  0.669227   0.667183  1.000000  0.585401  0.850365   \n",
      "POLITICS   0.519183  0.544391   0.558276  0.585401  1.000000  0.597255   \n",
      "Factor1    0.789775  0.865157   0.884024  0.850365  0.597255  1.000000   \n",
      "Factor2    0.282880  0.264348   0.240268  0.270388  0.616836  0.142190   \n",
      "\n",
      "            Factor2  \n",
      "RELIGION   0.643581  \n",
      "OPINION    0.675071  \n",
      "DOCTOR     0.524052  \n",
      "PRESS      0.710271  \n",
      "PARTY      0.763411  \n",
      "ORG        0.716271  \n",
      "PROPERTY   0.282880  \n",
      "TRAVEL     0.264348  \n",
      "LIFESTYLE  0.240268  \n",
      "ENTERPR    0.270388  \n",
      "POLITICS   0.616836  \n",
      "Factor1    0.142190  \n",
      "Factor2    1.000000  \n"
     ]
    }
   ],
   "source": [
    "FaDf3 = FaDf.drop(['index'],axis =1)\n",
    "## correlation matrix\n",
    "corrMatrix = FaDf3.corr()\n",
    "print (corrMatrix)"
   ]
  },
  {
   "cell_type": "code",
   "execution_count": 62,
   "metadata": {},
   "outputs": [
    {
     "data": {
      "image/png": "[encoded data removed]",
      "text/plain": [
       "<Figure size 432x288 with 2 Axes>"
      ]
     },
     "metadata": {},
     "output_type": "display_data"
    }
   ],
   "source": [
    "corrMatrix2 = abs(corrMatrix)\n",
    "sns.heatmap(corrMatrix2,\n",
    "            cmap='coolwarm') # vmin=-1 if we want negative and positive too\n",
    "plt.show()"
   ]
  },
  {
   "cell_type": "markdown",
   "metadata": {},
   "source": [
    "### the correlation matrix shows a relatively nice separate 2 factors"
   ]
  },
  {
   "cell_type": "markdown",
   "metadata": {},
   "source": [
    "## CONFIRMATORY FACTOR ANALYSIS"
   ]
  },
  {
   "cell_type": "code",
   "execution_count": null,
   "metadata": {},
   "outputs": [],
   "source": []
  }
 ],
 "metadata": {
  "kernelspec": {
   "display_name": "Python 3",
   "language": "python",
   "name": "python3"
  },
  "language_info": {
   "codemirror_mode": {
    "name": "ipython",
    "version": 3
   },
   "file_extension": ".py",
   "mimetype": "text/x-python",
   "name": "python",
   "nbconvert_exporter": "python",
   "pygments_lexer": "ipython3",
   "version": "3.6.10"
  }
 },
 "nbformat": 4,
 "nbformat_minor": 4
}
